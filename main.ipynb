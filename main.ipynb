{
 "cells": [
  {
   "cell_type": "markdown",
   "metadata": {},
   "source": [
    "# Projet  4 : Analyse de vente"
   ]
  },
  {
   "cell_type": "markdown",
   "metadata": {},
   "source": [
    "Ce notebook  est consacré  à l'anlyse proporement  dite  de  notre dataframe nettoyé dans  la mission 1 du  projet 4.Il s'appuiera sur des indiccateurs  precis  pour sortirr des  informations clés   issues d'une exploitation fine  des données   à notre dispsoition."
   ]
  },
  {
   "cell_type": "markdown",
   "metadata": {},
   "source": [
    "# Mission 2 : Analyses "
   ]
  },
  {
   "cell_type": "markdown",
   "metadata": {},
   "source": [
    "Cette  mission sera realisée en nous appuyant sur  les ressources diverses  d'openclassroom  et  autres  du langage  python et  ses  differentes  librairies dediées  à la data analyse."
   ]
  },
  {
   "cell_type": "code",
   "execution_count": 1,
   "metadata": {},
   "outputs": [],
   "source": [
    "import pandas as pd\n",
    "import  numpy as  np\n",
    "import seaborn as sns\n",
    "import matplotlib.pyplot as plt \n",
    "import scipy.stats as st"
   ]
  },
  {
   "cell_type": "code",
   "execution_count": 2,
   "metadata": {},
   "outputs": [
    {
     "name": "stdout",
     "output_type": "stream",
     "text": [
      "<class 'pandas.core.frame.DataFrame'>\n",
      "RangeIndex: 336713 entries, 0 to 336712\n",
      "Data columns (total 10 columns):\n",
      " #   Column      Non-Null Count   Dtype         \n",
      "---  ------      --------------   -----         \n",
      " 0   Unnamed: 0  336713 non-null  int64         \n",
      " 1   id_prod     336713 non-null  object        \n",
      " 2   price       336713 non-null  float64       \n",
      " 3   categ       336713 non-null  float64       \n",
      " 4   date        336713 non-null  datetime64[ns]\n",
      " 5   session_id  336713 non-null  object        \n",
      " 6   client_id   336713 non-null  object        \n",
      " 7   sex         336713 non-null  object        \n",
      " 8   birth       336713 non-null  int64         \n",
      " 9   datebis     336713 non-null  object        \n",
      "dtypes: datetime64[ns](1), float64(2), int64(2), object(5)\n",
      "memory usage: 25.7+ MB\n"
     ]
    },
    {
     "data": {
      "text/html": [
       "<div>\n",
       "<style scoped>\n",
       "    .dataframe tbody tr th:only-of-type {\n",
       "        vertical-align: middle;\n",
       "    }\n",
       "\n",
       "    .dataframe tbody tr th {\n",
       "        vertical-align: top;\n",
       "    }\n",
       "\n",
       "    .dataframe thead th {\n",
       "        text-align: right;\n",
       "    }\n",
       "</style>\n",
       "<table border=\"1\" class=\"dataframe\">\n",
       "  <thead>\n",
       "    <tr style=\"text-align: right;\">\n",
       "      <th></th>\n",
       "      <th>Unnamed: 0</th>\n",
       "      <th>id_prod</th>\n",
       "      <th>price</th>\n",
       "      <th>categ</th>\n",
       "      <th>date</th>\n",
       "      <th>session_id</th>\n",
       "      <th>client_id</th>\n",
       "      <th>sex</th>\n",
       "      <th>birth</th>\n",
       "      <th>datebis</th>\n",
       "    </tr>\n",
       "  </thead>\n",
       "  <tbody>\n",
       "    <tr>\n",
       "      <th>0</th>\n",
       "      <td>0</td>\n",
       "      <td>0_1483</td>\n",
       "      <td>4.99</td>\n",
       "      <td>0.0</td>\n",
       "      <td>2021-04-10 18:37:28.723910</td>\n",
       "      <td>s_18746</td>\n",
       "      <td>c_4450</td>\n",
       "      <td>f</td>\n",
       "      <td>1977</td>\n",
       "      <td>2021-04-10 18:37:28.723910</td>\n",
       "    </tr>\n",
       "    <tr>\n",
       "      <th>1</th>\n",
       "      <td>1</td>\n",
       "      <td>0_1483</td>\n",
       "      <td>4.99</td>\n",
       "      <td>0.0</td>\n",
       "      <td>2021-12-27 11:11:12.123067</td>\n",
       "      <td>s_140787</td>\n",
       "      <td>c_5433</td>\n",
       "      <td>f</td>\n",
       "      <td>1981</td>\n",
       "      <td>2021-12-27 11:11:12.123067</td>\n",
       "    </tr>\n",
       "    <tr>\n",
       "      <th>2</th>\n",
       "      <td>2</td>\n",
       "      <td>0_1483</td>\n",
       "      <td>4.99</td>\n",
       "      <td>0.0</td>\n",
       "      <td>2021-10-27 04:56:38.293970</td>\n",
       "      <td>s_110736</td>\n",
       "      <td>c_857</td>\n",
       "      <td>m</td>\n",
       "      <td>1985</td>\n",
       "      <td>2021-10-27 04:56:38.293970</td>\n",
       "    </tr>\n",
       "    <tr>\n",
       "      <th>3</th>\n",
       "      <td>3</td>\n",
       "      <td>0_1483</td>\n",
       "      <td>4.99</td>\n",
       "      <td>0.0</td>\n",
       "      <td>2021-07-04 06:43:45.676567</td>\n",
       "      <td>s_57626</td>\n",
       "      <td>c_3679</td>\n",
       "      <td>f</td>\n",
       "      <td>1989</td>\n",
       "      <td>2021-07-04 06:43:45.676567</td>\n",
       "    </tr>\n",
       "    <tr>\n",
       "      <th>4</th>\n",
       "      <td>4</td>\n",
       "      <td>0_1483</td>\n",
       "      <td>4.99</td>\n",
       "      <td>0.0</td>\n",
       "      <td>2021-09-19 08:45:43.735331</td>\n",
       "      <td>s_92165</td>\n",
       "      <td>c_1609</td>\n",
       "      <td>m</td>\n",
       "      <td>1980</td>\n",
       "      <td>2021-09-19 08:45:43.735331</td>\n",
       "    </tr>\n",
       "  </tbody>\n",
       "</table>\n",
       "</div>"
      ],
      "text/plain": [
       "   Unnamed: 0 id_prod  price  categ                       date session_id  \\\n",
       "0           0  0_1483   4.99    0.0 2021-04-10 18:37:28.723910    s_18746   \n",
       "1           1  0_1483   4.99    0.0 2021-12-27 11:11:12.123067   s_140787   \n",
       "2           2  0_1483   4.99    0.0 2021-10-27 04:56:38.293970   s_110736   \n",
       "3           3  0_1483   4.99    0.0 2021-07-04 06:43:45.676567    s_57626   \n",
       "4           4  0_1483   4.99    0.0 2021-09-19 08:45:43.735331    s_92165   \n",
       "\n",
       "  client_id sex  birth                     datebis  \n",
       "0    c_4450   f   1977  2021-04-10 18:37:28.723910  \n",
       "1    c_5433   f   1981  2021-12-27 11:11:12.123067  \n",
       "2     c_857   m   1985  2021-10-27 04:56:38.293970  \n",
       "3    c_3679   f   1989  2021-07-04 06:43:45.676567  \n",
       "4    c_1609   m   1980  2021-09-19 08:45:43.735331  "
      ]
     },
     "execution_count": 2,
     "metadata": {},
     "output_type": "execute_result"
    }
   ],
   "source": [
    "#Chargeaons notre  table finale  apres  l'avoir   importé dans  jupyter notebook lors de  la  mission 1\n",
    "\n",
    "datap4 = pd.read_csv('datap4')\n",
    "datap4['date'] = pd.to_datetime(datap4['date'],infer_datetime_format = True,\n",
    "                                              errors='coerce')\n",
    "datap4.info()\n",
    "datap4.head()"
   ]
  },
  {
   "cell_type": "code",
   "execution_count": 3,
   "metadata": {},
   "outputs": [
    {
     "data": {
      "text/html": [
       "<div>\n",
       "<style scoped>\n",
       "    .dataframe tbody tr th:only-of-type {\n",
       "        vertical-align: middle;\n",
       "    }\n",
       "\n",
       "    .dataframe tbody tr th {\n",
       "        vertical-align: top;\n",
       "    }\n",
       "\n",
       "    .dataframe thead th {\n",
       "        text-align: right;\n",
       "    }\n",
       "</style>\n",
       "<table border=\"1\" class=\"dataframe\">\n",
       "  <thead>\n",
       "    <tr style=\"text-align: right;\">\n",
       "      <th></th>\n",
       "      <th>Unnamed: 0</th>\n",
       "      <th>id_prod</th>\n",
       "      <th>price</th>\n",
       "      <th>categ</th>\n",
       "      <th>date</th>\n",
       "      <th>session_id</th>\n",
       "      <th>client_id</th>\n",
       "      <th>sex</th>\n",
       "      <th>birth</th>\n",
       "    </tr>\n",
       "  </thead>\n",
       "  <tbody>\n",
       "    <tr>\n",
       "      <th>0</th>\n",
       "      <td>0</td>\n",
       "      <td>0_1483</td>\n",
       "      <td>4.99</td>\n",
       "      <td>0.0</td>\n",
       "      <td>2021-04-10 18:37:28.723910</td>\n",
       "      <td>s_18746</td>\n",
       "      <td>c_4450</td>\n",
       "      <td>f</td>\n",
       "      <td>1977</td>\n",
       "    </tr>\n",
       "    <tr>\n",
       "      <th>1</th>\n",
       "      <td>1</td>\n",
       "      <td>0_1483</td>\n",
       "      <td>4.99</td>\n",
       "      <td>0.0</td>\n",
       "      <td>2021-12-27 11:11:12.123067</td>\n",
       "      <td>s_140787</td>\n",
       "      <td>c_5433</td>\n",
       "      <td>f</td>\n",
       "      <td>1981</td>\n",
       "    </tr>\n",
       "    <tr>\n",
       "      <th>2</th>\n",
       "      <td>2</td>\n",
       "      <td>0_1483</td>\n",
       "      <td>4.99</td>\n",
       "      <td>0.0</td>\n",
       "      <td>2021-10-27 04:56:38.293970</td>\n",
       "      <td>s_110736</td>\n",
       "      <td>c_857</td>\n",
       "      <td>m</td>\n",
       "      <td>1985</td>\n",
       "    </tr>\n",
       "    <tr>\n",
       "      <th>3</th>\n",
       "      <td>3</td>\n",
       "      <td>0_1483</td>\n",
       "      <td>4.99</td>\n",
       "      <td>0.0</td>\n",
       "      <td>2021-07-04 06:43:45.676567</td>\n",
       "      <td>s_57626</td>\n",
       "      <td>c_3679</td>\n",
       "      <td>f</td>\n",
       "      <td>1989</td>\n",
       "    </tr>\n",
       "    <tr>\n",
       "      <th>4</th>\n",
       "      <td>4</td>\n",
       "      <td>0_1483</td>\n",
       "      <td>4.99</td>\n",
       "      <td>0.0</td>\n",
       "      <td>2021-09-19 08:45:43.735331</td>\n",
       "      <td>s_92165</td>\n",
       "      <td>c_1609</td>\n",
       "      <td>m</td>\n",
       "      <td>1980</td>\n",
       "    </tr>\n",
       "  </tbody>\n",
       "</table>\n",
       "</div>"
      ],
      "text/plain": [
       "   Unnamed: 0 id_prod  price  categ                       date session_id  \\\n",
       "0           0  0_1483   4.99    0.0 2021-04-10 18:37:28.723910    s_18746   \n",
       "1           1  0_1483   4.99    0.0 2021-12-27 11:11:12.123067   s_140787   \n",
       "2           2  0_1483   4.99    0.0 2021-10-27 04:56:38.293970   s_110736   \n",
       "3           3  0_1483   4.99    0.0 2021-07-04 06:43:45.676567    s_57626   \n",
       "4           4  0_1483   4.99    0.0 2021-09-19 08:45:43.735331    s_92165   \n",
       "\n",
       "  client_id sex  birth  \n",
       "0    c_4450   f   1977  \n",
       "1    c_5433   f   1981  \n",
       "2     c_857   m   1985  \n",
       "3    c_3679   f   1989  \n",
       "4    c_1609   m   1980  "
      ]
     },
     "execution_count": 3,
     "metadata": {},
     "output_type": "execute_result"
    }
   ],
   "source": [
    "#Supprimons  la colonne datebis dont  on a  plus besoin \n",
    "datap4V = datap4.drop(columns = ['datebis'])\n",
    "datap4V.head()"
   ]
  },
  {
   "cell_type": "code",
   "execution_count": 4,
   "metadata": {},
   "outputs": [
    {
     "name": "stderr",
     "output_type": "stream",
     "text": [
      "<ipython-input-4-598fff63d957>:3: FutureWarning: Treating datetime data as categorical rather than numeric in `.describe` is deprecated and will be removed in a future version of pandas. Specify `datetime_is_numeric=True` to silence this warning and adopt the future behavior now.\n",
      "  datap4V.describe(include ='all')\n"
     ]
    },
    {
     "data": {
      "text/html": [
       "<div>\n",
       "<style scoped>\n",
       "    .dataframe tbody tr th:only-of-type {\n",
       "        vertical-align: middle;\n",
       "    }\n",
       "\n",
       "    .dataframe tbody tr th {\n",
       "        vertical-align: top;\n",
       "    }\n",
       "\n",
       "    .dataframe thead th {\n",
       "        text-align: right;\n",
       "    }\n",
       "</style>\n",
       "<table border=\"1\" class=\"dataframe\">\n",
       "  <thead>\n",
       "    <tr style=\"text-align: right;\">\n",
       "      <th></th>\n",
       "      <th>Unnamed: 0</th>\n",
       "      <th>id_prod</th>\n",
       "      <th>price</th>\n",
       "      <th>categ</th>\n",
       "      <th>date</th>\n",
       "      <th>session_id</th>\n",
       "      <th>client_id</th>\n",
       "      <th>sex</th>\n",
       "      <th>birth</th>\n",
       "    </tr>\n",
       "  </thead>\n",
       "  <tbody>\n",
       "    <tr>\n",
       "      <th>count</th>\n",
       "      <td>336713.000000</td>\n",
       "      <td>336713</td>\n",
       "      <td>336713.000000</td>\n",
       "      <td>336713.000000</td>\n",
       "      <td>336713</td>\n",
       "      <td>336713</td>\n",
       "      <td>336713</td>\n",
       "      <td>336713</td>\n",
       "      <td>336713.000000</td>\n",
       "    </tr>\n",
       "    <tr>\n",
       "      <th>unique</th>\n",
       "      <td>NaN</td>\n",
       "      <td>3264</td>\n",
       "      <td>NaN</td>\n",
       "      <td>NaN</td>\n",
       "      <td>336713</td>\n",
       "      <td>169173</td>\n",
       "      <td>8600</td>\n",
       "      <td>2</td>\n",
       "      <td>NaN</td>\n",
       "    </tr>\n",
       "    <tr>\n",
       "      <th>top</th>\n",
       "      <td>NaN</td>\n",
       "      <td>1_369</td>\n",
       "      <td>NaN</td>\n",
       "      <td>NaN</td>\n",
       "      <td>2021-06-30 11:35:55.387896</td>\n",
       "      <td>s_118668</td>\n",
       "      <td>c_1609</td>\n",
       "      <td>m</td>\n",
       "      <td>NaN</td>\n",
       "    </tr>\n",
       "    <tr>\n",
       "      <th>freq</th>\n",
       "      <td>NaN</td>\n",
       "      <td>1081</td>\n",
       "      <td>NaN</td>\n",
       "      <td>NaN</td>\n",
       "      <td>1</td>\n",
       "      <td>14</td>\n",
       "      <td>12855</td>\n",
       "      <td>169198</td>\n",
       "      <td>NaN</td>\n",
       "    </tr>\n",
       "    <tr>\n",
       "      <th>first</th>\n",
       "      <td>NaN</td>\n",
       "      <td>NaN</td>\n",
       "      <td>NaN</td>\n",
       "      <td>NaN</td>\n",
       "      <td>2021-03-01 00:01:07.843138</td>\n",
       "      <td>NaN</td>\n",
       "      <td>NaN</td>\n",
       "      <td>NaN</td>\n",
       "      <td>NaN</td>\n",
       "    </tr>\n",
       "    <tr>\n",
       "      <th>last</th>\n",
       "      <td>NaN</td>\n",
       "      <td>NaN</td>\n",
       "      <td>NaN</td>\n",
       "      <td>NaN</td>\n",
       "      <td>2022-02-28 23:59:58.040472</td>\n",
       "      <td>NaN</td>\n",
       "      <td>NaN</td>\n",
       "      <td>NaN</td>\n",
       "      <td>NaN</td>\n",
       "    </tr>\n",
       "    <tr>\n",
       "      <th>mean</th>\n",
       "      <td>168449.615756</td>\n",
       "      <td>NaN</td>\n",
       "      <td>17.215189</td>\n",
       "      <td>0.430156</td>\n",
       "      <td>NaN</td>\n",
       "      <td>NaN</td>\n",
       "      <td>NaN</td>\n",
       "      <td>NaN</td>\n",
       "      <td>1977.823568</td>\n",
       "    </tr>\n",
       "    <tr>\n",
       "      <th>std</th>\n",
       "      <td>97217.147271</td>\n",
       "      <td>NaN</td>\n",
       "      <td>17.855445</td>\n",
       "      <td>0.591082</td>\n",
       "      <td>NaN</td>\n",
       "      <td>NaN</td>\n",
       "      <td>NaN</td>\n",
       "      <td>NaN</td>\n",
       "      <td>13.524433</td>\n",
       "    </tr>\n",
       "    <tr>\n",
       "      <th>min</th>\n",
       "      <td>0.000000</td>\n",
       "      <td>NaN</td>\n",
       "      <td>0.620000</td>\n",
       "      <td>0.000000</td>\n",
       "      <td>NaN</td>\n",
       "      <td>NaN</td>\n",
       "      <td>NaN</td>\n",
       "      <td>NaN</td>\n",
       "      <td>1929.000000</td>\n",
       "    </tr>\n",
       "    <tr>\n",
       "      <th>25%</th>\n",
       "      <td>84281.000000</td>\n",
       "      <td>NaN</td>\n",
       "      <td>8.610000</td>\n",
       "      <td>0.000000</td>\n",
       "      <td>NaN</td>\n",
       "      <td>NaN</td>\n",
       "      <td>NaN</td>\n",
       "      <td>NaN</td>\n",
       "      <td>1971.000000</td>\n",
       "    </tr>\n",
       "    <tr>\n",
       "      <th>50%</th>\n",
       "      <td>168459.000000</td>\n",
       "      <td>NaN</td>\n",
       "      <td>13.900000</td>\n",
       "      <td>0.000000</td>\n",
       "      <td>NaN</td>\n",
       "      <td>NaN</td>\n",
       "      <td>NaN</td>\n",
       "      <td>NaN</td>\n",
       "      <td>1980.000000</td>\n",
       "    </tr>\n",
       "    <tr>\n",
       "      <th>75%</th>\n",
       "      <td>252637.000000</td>\n",
       "      <td>NaN</td>\n",
       "      <td>18.990000</td>\n",
       "      <td>1.000000</td>\n",
       "      <td>NaN</td>\n",
       "      <td>NaN</td>\n",
       "      <td>NaN</td>\n",
       "      <td>NaN</td>\n",
       "      <td>1987.000000</td>\n",
       "    </tr>\n",
       "    <tr>\n",
       "      <th>max</th>\n",
       "      <td>337015.000000</td>\n",
       "      <td>NaN</td>\n",
       "      <td>300.000000</td>\n",
       "      <td>2.000000</td>\n",
       "      <td>NaN</td>\n",
       "      <td>NaN</td>\n",
       "      <td>NaN</td>\n",
       "      <td>NaN</td>\n",
       "      <td>2004.000000</td>\n",
       "    </tr>\n",
       "  </tbody>\n",
       "</table>\n",
       "</div>"
      ],
      "text/plain": [
       "           Unnamed: 0 id_prod          price          categ  \\\n",
       "count   336713.000000  336713  336713.000000  336713.000000   \n",
       "unique            NaN    3264            NaN            NaN   \n",
       "top               NaN   1_369            NaN            NaN   \n",
       "freq              NaN    1081            NaN            NaN   \n",
       "first             NaN     NaN            NaN            NaN   \n",
       "last              NaN     NaN            NaN            NaN   \n",
       "mean    168449.615756     NaN      17.215189       0.430156   \n",
       "std      97217.147271     NaN      17.855445       0.591082   \n",
       "min          0.000000     NaN       0.620000       0.000000   \n",
       "25%      84281.000000     NaN       8.610000       0.000000   \n",
       "50%     168459.000000     NaN      13.900000       0.000000   \n",
       "75%     252637.000000     NaN      18.990000       1.000000   \n",
       "max     337015.000000     NaN     300.000000       2.000000   \n",
       "\n",
       "                              date session_id client_id     sex          birth  \n",
       "count                       336713     336713    336713  336713  336713.000000  \n",
       "unique                      336713     169173      8600       2            NaN  \n",
       "top     2021-06-30 11:35:55.387896   s_118668    c_1609       m            NaN  \n",
       "freq                             1         14     12855  169198            NaN  \n",
       "first   2021-03-01 00:01:07.843138        NaN       NaN     NaN            NaN  \n",
       "last    2022-02-28 23:59:58.040472        NaN       NaN     NaN            NaN  \n",
       "mean                           NaN        NaN       NaN     NaN    1977.823568  \n",
       "std                            NaN        NaN       NaN     NaN      13.524433  \n",
       "min                            NaN        NaN       NaN     NaN    1929.000000  \n",
       "25%                            NaN        NaN       NaN     NaN    1971.000000  \n",
       "50%                            NaN        NaN       NaN     NaN    1980.000000  \n",
       "75%                            NaN        NaN       NaN     NaN    1987.000000  \n",
       "max                            NaN        NaN       NaN     NaN    2004.000000  "
      ]
     },
     "execution_count": 4,
     "metadata": {},
     "output_type": "execute_result"
    }
   ],
   "source": [
    "#Explorons notre table avant  les analyses\n",
    "# avec la methhode describe  \n",
    "datap4V.describe(include ='all')"
   ]
  },
  {
   "cell_type": "code",
   "execution_count": 5,
   "metadata": {},
   "outputs": [
    {
     "data": {
      "text/plain": [
       "0"
      ]
     },
     "execution_count": 5,
     "metadata": {},
     "output_type": "execute_result"
    }
   ],
   "source": [
    "#Coninuons d'explorer  notre  table  \n",
    "#En verifiant pr exemple s'il y' a  pas des doublons  \n",
    "datap4V.duplicated().sum()"
   ]
  },
  {
   "cell_type": "markdown",
   "metadata": {},
   "source": [
    "# Indicateurs et indices statistiques"
   ]
  },
  {
   "cell_type": "markdown",
   "metadata": {},
   "source": [
    "Nous allons commencer  nos analyses en debutant  avec  les analyse  univariées.\n",
    "Nous allons proceder en choisissant des variables de  notre DF  et  appliquer des analyses diverses.Ces analyses sont  :\n",
    "-les mesures de tendence centrale\n",
    "-les mesures de dispersion \n",
    "-les mesures de  forme\n",
    "-les  mesures de concentration\n",
    "Aussi  verrons- nous  les  analyse  bivariées \n",
    "Tous ces elements  font  partie  de  la statitistique descriptive "
   ]
  },
  {
   "cell_type": "markdown",
   "metadata": {},
   "source": [
    "# Variable price"
   ]
  },
  {
   "cell_type": "code",
   "execution_count": 6,
   "metadata": {},
   "outputs": [
    {
     "data": {
      "text/plain": [
       "0    15.99\n",
       "dtype: float64"
      ]
     },
     "execution_count": 6,
     "metadata": {},
     "output_type": "execute_result"
    }
   ],
   "source": [
    "#Les 3 M : mode  , moyenne  , mediane\n",
    "#Testons  ces indicateurs sur la variable  price  \n",
    "#Calcul du mode\n",
    "#Cet indicateur nous informe  sur  le  prix  qui revient  le  plus dans  notre  jeu de donnée\n",
    "datap4V['price'].mode()"
   ]
  },
  {
   "cell_type": "code",
   "execution_count": 7,
   "metadata": {},
   "outputs": [
    {
     "name": "stdout",
     "output_type": "stream",
     "text": [
      "Moyenne :  17.21518851371992  ; Mediane :  13.9  ; Mode :  0    15.99\n",
      "dtype: float64\n"
     ]
    }
   ],
   "source": [
    "#Calculer  des elements en une fois avvec  print  de  la variable  price\n",
    "print(\"Moyenne : \", datap4V[\"price\"].mean(), \" ; Mediane : \", datap4V['price'].median(), \" ; Mode : \", datap4V['price'].mode())"
   ]
  },
  {
   "cell_type": "code",
   "execution_count": 8,
   "metadata": {},
   "outputs": [],
   "source": [
    "#Interpretons ces  mesures de  tendnce  centrale\n",
    "#En moyenne  les  prix  des  porduits achétés (livres) tournent auour de  17 €\n",
    "# les  produits  dont  les  prix tournent autour de  16 € sont  ceux qui sont  les  plus achétés\n",
    "#Sachant que  le produit  ici  est un  livre cela fait sens.\n"
   ]
  },
  {
   "cell_type": "code",
   "execution_count": 10,
   "metadata": {},
   "outputs": [
    {
     "data": {
      "text/plain": [
       "array([[<AxesSubplot:title={'center':'Unnamed: 0'}>,\n",
       "        <AxesSubplot:title={'center':'price'}>],\n",
       "       [<AxesSubplot:title={'center':'categ'}>,\n",
       "        <AxesSubplot:title={'center':'birth'}>]], dtype=object)"
      ]
     },
     "execution_count": 10,
     "metadata": {},
     "output_type": "execute_result"
    },
    {
     "data": {
      "image/png": "[encoded data removed]",
      "text/plain": [
       "<Figure size 432x288 with 4 Axes>"
      ]
     },
     "metadata": {
      "needs_background": "light"
     },
     "output_type": "display_data"
    }
   ],
   "source": [
    "#Affichons  cette distribution  aussi  avec  un  histogramme  \n",
    "#dans  le  but de mieux visualiser\n",
    "datap4V.hist(bins = 100)"
   ]
  },
  {
   "cell_type": "code",
   "execution_count": 11,
   "metadata": {},
   "outputs": [
    {
     "data": {
      "text/plain": [
       "<AxesSubplot:>"
      ]
     },
     "execution_count": 11,
     "metadata": {},
     "output_type": "execute_result"
    },
    {
     "data": {
      "image/png": "[encoded data removed]",
      "text/plain": [
       "<Figure size 432x288 with 1 Axes>"
      ]
     },
     "metadata": {
      "needs_background": "light"
     },
     "output_type": "display_data"
    }
   ],
   "source": [
    "#Representons graphiquement  une des variables de  notre  table en  histogramme\n",
    "datap4V['price'].hist(bins =100)"
   ]
  },
  {
   "cell_type": "raw",
   "metadata": {},
   "source": []
  },
  {
   "cell_type": "markdown",
   "metadata": {},
   "source": [
    "# variable birth"
   ]
  },
  {
   "cell_type": "code",
   "execution_count": 12,
   "metadata": {},
   "outputs": [
    {
     "name": "stdout",
     "output_type": "stream",
     "text": [
      "Moyenne : 1977.8235678456133 ;Mediane : 1980.0  ; Mode :  0    1980\n",
      "dtype: int64\n"
     ]
    }
   ],
   "source": [
    "#Appliquons  les troix  mesures de  tendance centrale  sur cette varible quantitative  \n",
    "''\n",
    "print('Moyenne :', datap4V['birth'].mean(),';Mediane :' , datap4V['birth'].median(),' ; Mode : ',datap4V['birth'].mode())"
   ]
  },
  {
   "cell_type": "markdown",
   "metadata": {},
   "source": [
    "# Variable categ"
   ]
  },
  {
   "cell_type": "code",
   "execution_count": 13,
   "metadata": {},
   "outputs": [
    {
     "name": "stdout",
     "output_type": "stream",
     "text": [
      "Moyenne :  0.4301556518459341  ; Mediane :  0.0  ; Mode :  0    0.0\n",
      "dtype: float64\n"
     ]
    }
   ],
   "source": [
    "#Calculons les differentes  mesures de tendance centrale  avec  les 3M\n",
    "\n",
    "print(\"Moyenne : \", datap4V[\"categ\"].mean(), \" ; Mediane : \", datap4V['categ'].median(), \" ; Mode : \", datap4V['categ'].mode())\n",
    "\n",
    "\n",
    "#la  mediane ne donne  pas d'information interessante de  lecture de  sa distribution \n"
   ]
  },
  {
   "cell_type": "code",
   "execution_count": 14,
   "metadata": {},
   "outputs": [
    {
     "data": {
      "text/plain": [
       "<AxesSubplot:>"
      ]
     },
     "execution_count": 14,
     "metadata": {},
     "output_type": "execute_result"
    },
    {
     "data": {
      "image/png": "[encoded data removed]",
      "text/plain": [
       "<Figure size 432x288 with 1 Axes>"
      ]
     },
     "metadata": {
      "needs_background": "light"
     },
     "output_type": "display_data"
    }
   ],
   "source": [
    "#Affichons  l'histogramme de cette varible \n",
    "datap4V['categ'].hist()\n",
    "#"
   ]
  },
  {
   "cell_type": "code",
   "execution_count": 15,
   "metadata": {},
   "outputs": [
    {
     "data": {
      "text/plain": [
       "<AxesSubplot:>"
      ]
     },
     "execution_count": 15,
     "metadata": {},
     "output_type": "execute_result"
    },
    {
     "data": {
      "image/png": "[encoded data removed]",
      "text/plain": [
       "<Figure size 432x288 with 1 Axes>"
      ]
     },
     "metadata": {
      "needs_background": "light"
     },
     "output_type": "display_data"
    }
   ],
   "source": [
    "#Affichons des histogrammes  \n",
    "datap4V['birth'].hist()"
   ]
  },
  {
   "cell_type": "markdown",
   "metadata": {},
   "source": [
    "# Mesures de dispersion"
   ]
  },
  {
   "cell_type": "code",
   "execution_count": 74,
   "metadata": {},
   "outputs": [
    {
     "data": {
      "text/plain": [
       "13.524433308700566"
      ]
     },
     "execution_count": 74,
     "metadata": {},
     "output_type": "execute_result"
    }
   ],
   "source": [
    "#Repreesentées  par  la variance  , l'eacrat-type  ,  (ecart-type  emprique et  interquartile)\n",
    "#Calculons  la variance  ou l'ecart-type  d'une des variables  \n",
    "datap4V['birth'].std()\n",
    "#"
   ]
  },
  {
   "cell_type": "code",
   "execution_count": 18,
   "metadata": {
    "scrolled": true
   },
   "outputs": [
    {
     "data": {
      "text/plain": [
       "17.855445377654338"
      ]
     },
     "execution_count": 18,
     "metadata": {},
     "output_type": "execute_result"
    }
   ],
   "source": [
    "#Calculons  la variance de  la  variable price\n",
    "datap4V['price'].std()\n",
    "# selon le  prix  moyen  de 15  , on a ecart  de 17 "
   ]
  },
  {
   "cell_type": "markdown",
   "metadata": {},
   "source": [
    "# Mesures de forme"
   ]
  },
  {
   "cell_type": "code",
   "execution_count": 75,
   "metadata": {},
   "outputs": [
    {
     "data": {
      "text/plain": [
       "5.479196379351584"
      ]
     },
     "execution_count": 75,
     "metadata": {},
     "output_type": "execute_result"
    }
   ],
   "source": [
    "#Elles sont constituées de  skewness,  kurtosis  \n",
    "#Calculons  le skewness \n",
    "datap4V['price'].skew()\n",
    "#cette mesure  montre   les formes symetriques d'une distribution "
   ]
  },
  {
   "cell_type": "code",
   "execution_count": 76,
   "metadata": {},
   "outputs": [
    {
     "data": {
      "text/plain": [
       "45.42520484470874"
      ]
     },
     "execution_count": 76,
     "metadata": {},
     "output_type": "execute_result"
    }
   ],
   "source": [
    "#Calculons  le  kurtosis empirique  \n",
    "datap4V['price'].kurtosis()\n",
    "#Il  est tres haut  parce qu'on est tres resseré autour de quelques valeurs  \n"
   ]
  },
  {
   "cell_type": "markdown",
   "metadata": {},
   "source": [
    "# Analyse bivariée\n"
   ]
  },
  {
   "cell_type": "markdown",
   "metadata": {},
   "source": [
    "Elle sert  à mettre en evidence  des relations entre deux variables  pour  en sortir  des elements pouvant  nous conduire  à  faire deschoix  ou  à prendre des decisions  . \n",
    "On  peut aussi a travers cette analyse crée  un algorithme  permettant  de faire des actions  selon  une demande  precise.\n",
    "Elle sert à etudier  les relations entre variables  d'une distribution donnée \n",
    "# #on  parle de correlation  entre deux variables  . cela veut dire  qu'avec  une variable  on  peut avoir des  informations sur  l'autre  \n",
    "le diagramme de dispersion est utilise  pour representer  les relations entre duux variables quantitatives alors que  le tableau de contingence repreesente  les correlations entre variables qualitatives .\n",
    "Pour  mener  notre exercice  , nous allons  proceder  par couple  de variable"
   ]
  },
  {
   "cell_type": "markdown",
   "metadata": {},
   "source": [
    "# Couple 1 [naissance-prix]"
   ]
  },
  {
   "cell_type": "code",
   "execution_count": 77,
   "metadata": {},
   "outputs": [
    {
     "data": {
      "image/png": "[encoded data removed]",
      "text/plain": [
       "<Figure size 432x288 with 1 Axes>"
      ]
     },
     "metadata": {
      "needs_background": "light"
     },
     "output_type": "display_data"
    }
   ],
   "source": [
    "#Essayons de representer   par  un diagramme de  dispersion les deux variables quntitatives \n",
    "#Price et  birth \n",
    "\n",
    "plt.plot(datap4V['price'],datap4V['birth'],'o',alpha=2.0)\n",
    "plt.title('graphe 1 couple naissance-prix')\n",
    "plt.xlabel('price')\n",
    "plt.ylabel('birth')\n",
    "plt.show()"
   ]
  },
  {
   "cell_type": "markdown",
   "metadata": {},
   "source": [
    "# Interpretation  du graphe \n",
    "# Les deux variables etudiees  ici  representent  le  prix des  produits et l'age des clients  ayant acheté ces  produits\n",
    "#Nous aimerions savoir  si  l'age des clients  peut  influencer  sur  le  montant  d'achat  des  produits  \n",
    "#Ou  est  ce que selon  que  les  prix des  produits sont  plus cheres  (ou plus  petit) ,les clients  d'une telle classe \n",
    "#d'age  achete  plus  ou moins ? \n",
    "##Ou est ce qu'il existe  une correlation entre  l'age et le montant total des achats \n",
    "#On constate une forme  particuliiere  de dispersion sur ce graphe\n",
    "# A travers ce  graphe 1 , on observe que  les  produits se situant   dans la classe de  prix  de  0  à  30 €\n",
    "# sont  achétes par  tous les ages \n",
    "# On constate  une forte condensation des  points  autour  de la classe de  prix  de o à 30 €\n",
    "#Ensuite  les  points sont disperses et  de  moins en  moins au  fur qu'on avance  vers  le  prix de  300\n",
    "#1Cela peut etre comprehensible car  le  priduit ici  est  un  livre  \n",
    "#On  pourrait dire quelques soient  l'age  le  montant total depasse rarement les 30 €\n",
    "#On remarque etonnement  que   les jeunes achetent  plus  des  produits  pluus chèrs \n",
    "#Nous  pourrons dire  qu'il n'ya certainement  pas de correlation entre  l'age et  l'achat  des  livres \n"
   ]
  },
  {
   "cell_type": "code",
   "execution_count": 25,
   "metadata": {},
   "outputs": [
    {
     "name": "stdout",
     "output_type": "stream",
     "text": [
      "0.21152926170472086\n"
     ]
    }
   ],
   "source": [
    "#Analyse sur des  variables quantitatives  possibilite de representer avec  un diagramme de dispersion - \n",
    "#Nous allons calculer  la correlation  potentielle entre les variabless  price et  birth\n",
    "#On  peut calculer la covariance empririque et le coeeficient de correlation lineaire (r) ou  de  Pearson  \n",
    "#Dans  notre  dataframe  , nous avons  3 variables quantitatives et le reste des variables qualitatives\n",
    "#Nous allons realiser  une analyse bivarie enhtre deux varibles quantitatives  pour representer   un diagramme de dispersion\n",
    "#Mais avant  importons les librairies qui permettent ces calculs notamment scipy \n",
    "#Ensuite   nous calculons  r avec  les deux  variables recquises et selections  le  premier resultats de cet ensemble \n",
    "\n",
    "print(st.pearsonr(datap4V['price'], datap4V['birth'])[0])\n",
    "\n"
   ]
  },
  {
   "cell_type": "code",
   "execution_count": 26,
   "metadata": {},
   "outputs": [],
   "source": [
    "\n",
    "#Interpretation \n",
    "# A travers lle graphe 1 ; les  points ne sont  pas  alignés de sorte  à  former  une forme lineaire\n",
    "#Ainsi  il est impossible   de deceler  une correlation  lineaire  \n",
    "#La valeur du coefficient de correlation lineaire  n'est pas ainsi  proche  ni de   -1 et  , ni de 1"
   ]
  },
  {
   "cell_type": "code",
   "execution_count": 27,
   "metadata": {},
   "outputs": [
    {
     "name": "stdout",
     "output_type": "stream",
     "text": [
      "51.08094556500938\n"
     ]
    }
   ],
   "source": [
    "#Calculons la matrice de covariance  \n",
    "print(np.cov(datap4V['price'], datap4V['birth'] ,ddof=0)[1,0])"
   ]
  },
  {
   "cell_type": "markdown",
   "metadata": {},
   "source": [
    "# Couple 2 [prix-categorie]"
   ]
  },
  {
   "cell_type": "code",
   "execution_count": 28,
   "metadata": {},
   "outputs": [
    {
     "name": "stdout",
     "output_type": "stream",
     "text": [
      "0.673359134019579\n"
     ]
    }
   ],
   "source": [
    "\n",
    "#Calculons   pour  les variables quantitatives  de prix et  de  categorie\n",
    "#Calcul  du  coefficient  de covariance lineaire\n",
    "print(st.pearsonr(datap4V['price'], datap4V['categ'])[0])"
   ]
  },
  {
   "cell_type": "code",
   "execution_count": 29,
   "metadata": {},
   "outputs": [
    {
     "name": "stdout",
     "output_type": "stream",
     "text": [
      "7.106631287981137\n"
     ]
    }
   ],
   "source": [
    "#Maintenant  calculons la matrice de covariance\n",
    "print(np.cov(datap4V['price'], datap4V['categ'] ,ddof=0)[1,0])"
   ]
  },
  {
   "cell_type": "code",
   "execution_count": 30,
   "metadata": {},
   "outputs": [
    {
     "data": {
      "image/png": "[encoded data removed]",
      "text/plain": [
       "<Figure size 432x288 with 1 Axes>"
      ]
     },
     "metadata": {
      "needs_background": "light"
     },
     "output_type": "display_data"
    }
   ],
   "source": [
    "#Visualisons  les  representations  de ce  couple  \n",
    "\n",
    "plt.plot(datap4V['price'], datap4V['categ'],'o', alpha =2.0)\n",
    "plt.title('graphe 2')\n",
    "plt.xlabel('price')\n",
    "plt.ylabel('categ')\n",
    "plt.show()"
   ]
  },
  {
   "cell_type": "code",
   "execution_count": 31,
   "metadata": {},
   "outputs": [],
   "source": [
    "##Interpretation \n",
    "#Sur ce graphe  il y a pas  d'informations nouvelles revelées à travers  l'analyse bivariée\n",
    "#Nous observvons une distribition qui revele  que les  produits de categorie 2 sont  les  plus  coutants \n",
    "#Nous ne voyons aucune correlation entre  les prix des produits  et la categorie  \n",
    "#Pour dire qu'on ne peut  pa etablir  une relation entre un  produit  d'une  quelconcque categorie  et  son  prix de vente\n",
    "#Il nous est imossible de repondre s'il  y a relation entre  le  montoant de  notre  produit  et  la categorie dans laquelle  il est  \n",
    "\n"
   ]
  },
  {
   "cell_type": "markdown",
   "metadata": {},
   "source": [
    "# Couple 3 [sexe-categorie]"
   ]
  },
  {
   "cell_type": "code",
   "execution_count": 32,
   "metadata": {},
   "outputs": [
    {
     "data": {
      "image/png": "[encoded data removed]",
      "text/plain": [
       "<Figure size 432x288 with 1 Axes>"
      ]
     },
     "metadata": {
      "needs_background": "light"
     },
     "output_type": "display_data"
    }
   ],
   "source": [
    "#Visualisons  \n",
    "#Pour  illustrer  ce couple  nous alons en  premier  creer  un sous-echantillon\n",
    "X= 'sex'\n",
    "Y= 'categ'\n",
    "sous_echantillon = datap4V.copy()\n",
    "modalites= sous_echantillon[X].unique()\n",
    "groupes =[]\n",
    "for m in modalites:\n",
    "     groupes.append(sous_echantillon[sous_echantillon[X]==m][Y])\n",
    "        \n",
    "medianprops = {'color':\"black\"}\n",
    "meanprops = {'marker':'o', 'markeredgecolor':'black',\n",
    "            'markerfacecolor':'firebrick'}\n",
    "plt.boxplot(groupes, labels=modalites, showfliers=False, medianprops=medianprops, \n",
    "            vert=False, patch_artist=True, showmeans=True, meanprops=meanprops)\n",
    "plt.title('graphe 3')\n",
    "plt.show()"
   ]
  },
  {
   "cell_type": "code",
   "execution_count": 33,
   "metadata": {},
   "outputs": [],
   "source": [
    "#Cette representation  n'indique rien de  notable  pour  notre analyse  \n",
    "#Ce graphe est  atypique car nous  n'observons  pas  la  mediane  à l'interieur de  la  boite  \n",
    "#Par contre  nous  y  observons  les  moyennes  marquées en  rouge  \n",
    "#de ce fait  il est  difficile  de visualiser  l'etendue de  la serie statistique  \n",
    "#Les  formes sont  indentiques  d'un genre  à lun autre  dans  les deux  boites  \n",
    "#\n"
   ]
  },
  {
   "cell_type": "markdown",
   "metadata": {},
   "source": [
    "# Couple sex-price"
   ]
  },
  {
   "cell_type": "code",
   "execution_count": 34,
   "metadata": {},
   "outputs": [
    {
     "data": {
      "image/png": "[encoded data removed]",
      "text/plain": [
       "<Figure size 432x288 with 1 Axes>"
      ]
     },
     "metadata": {
      "needs_background": "light"
     },
     "output_type": "display_data"
    }
   ],
   "source": [
    "#Pour  illustrer  ce couple  nous alons en  premier  creer  un sous-echantillon\n",
    "X= 'sex'\n",
    "Y= 'price'\n",
    "sous_echantillon = datap4V.copy()\n",
    "modalites= sous_echantillon[X].unique()\n",
    "groupes =[]\n",
    "for m in modalites:\n",
    "     groupes.append(sous_echantillon[sous_echantillon[X]==m][Y])\n",
    "        \n",
    "medianprops = {'color':\"black\"}\n",
    "meanprops = {'marker':'o', 'markeredgecolor':'black',\n",
    "            'markerfacecolor':'firebrick'}\n",
    "plt.boxplot(groupes, labels=modalites, showfliers=False, medianprops=medianprops, \n",
    "            vert=False, patch_artist=True, showmeans=True, meanprops=meanprops)\n",
    "plt.title('graphe 4')\n",
    "plt.show()"
   ]
  },
  {
   "cell_type": "code",
   "execution_count": 35,
   "metadata": {},
   "outputs": [],
   "source": [
    "#Interpretation\n",
    "#Sur le graphe  on constate  que les  moyennes se situent  au meme niveau  dans  les deux genres de sesxe\n",
    "#Nous  observons aussi  que  les  montants des  produits sont equivalents qu'on soit du sexe M ou F\n",
    "#Nous observon  la meme valeur de  l'ecart  interquartile  dans  les deux  boites  \n",
    "#On constate aussi la meme  forme de dispersion  identitque dans  les deux cas  \n",
    "#\n"
   ]
  },
  {
   "cell_type": "code",
   "execution_count": 36,
   "metadata": {},
   "outputs": [
    {
     "data": {
      "text/plain": [
       "6.740934192042128e-05"
      ]
     },
     "execution_count": 36,
     "metadata": {},
     "output_type": "execute_result"
    }
   ],
   "source": [
    "#Calculons  le rapport de  correlation a travers eta carré\n",
    "X = 'sex'\n",
    "Y = 'price'\n",
    "sous_echantillon = datap4V.copy()\n",
    "\n",
    "def eta_squared(x,y):\n",
    "    moyenne_y = y.mean()\n",
    "    classes = []\n",
    "    for classe in x.unique():\n",
    "        yi_classe = y[x==classe]\n",
    "        classes.append({'ni': len(yi_classe),\n",
    "                        'moyenne_classe': yi_classe.mean()})\n",
    "    SCT = sum([(yj-moyenne_y)**2 for yj in y])\n",
    "    SCE = sum([c['ni']*(c['moyenne_classe']-moyenne_y)**2 for c in classes])\n",
    "    return SCE/SCT\n",
    "    \n",
    "eta_squared(sous_echantillon[X],sous_echantillon[Y])\n"
   ]
  },
  {
   "cell_type": "code",
   "execution_count": 37,
   "metadata": {},
   "outputs": [],
   "source": [
    "#Interpretation du  test d'eta carré  \n",
    "#  ce  resultats  tres eproche de  O ,  on  peut dire qu'il y ' pas de correlation  entre les deux varibles  \n",
    "#'C'est la meme  observation que  nous avons faites sur  le  graphique  \n",
    "#Il y a donc  independnce des deux valeurs  \n",
    "#"
   ]
  },
  {
   "cell_type": "markdown",
   "metadata": {},
   "source": [
    "# Coreelation age-Montant d'achat"
   ]
  },
  {
   "cell_type": "code",
   "execution_count": 39,
   "metadata": {},
   "outputs": [
    {
     "data": {
      "text/plain": [
       "Index(['Unnamed: 0', 'id_prod', 'price', 'categ', 'date', 'session_id',\n",
       "       'client_id', 'sex', 'birth'],\n",
       "      dtype='object')"
      ]
     },
     "execution_count": 39,
     "metadata": {},
     "output_type": "execute_result"
    }
   ],
   "source": [
    "#Trouvons  le  nombre total d'achat  fait par client  \n",
    "#Nous allons d'abord  regroupé par client  \n",
    "#Ensuite  nous allons sommer  l'ensemble  de ce regroupement \n",
    "#Pour cela  nous allons creer  un df qui reponds a notre  besoin  \n",
    "#Nous allons creer  un DF  client sans   la variable  birth\n",
    "#Mais affichons d'abord  les colonnes afin de  les recuperer \n",
    "datap4V.columns.unique()\n"
   ]
  },
  {
   "cell_type": "code",
   "execution_count": 73,
   "metadata": {},
   "outputs": [
    {
     "data": {
      "text/html": [
       "<div>\n",
       "<style scoped>\n",
       "    .dataframe tbody tr th:only-of-type {\n",
       "        vertical-align: middle;\n",
       "    }\n",
       "\n",
       "    .dataframe tbody tr th {\n",
       "        vertical-align: top;\n",
       "    }\n",
       "\n",
       "    .dataframe thead th {\n",
       "        text-align: right;\n",
       "    }\n",
       "</style>\n",
       "<table border=\"1\" class=\"dataframe\">\n",
       "  <thead>\n",
       "    <tr style=\"text-align: right;\">\n",
       "      <th></th>\n",
       "      <th>Unnamed: 0</th>\n",
       "      <th>id_prod</th>\n",
       "      <th>price</th>\n",
       "      <th>categ</th>\n",
       "      <th>client_id</th>\n",
       "    </tr>\n",
       "  </thead>\n",
       "  <tbody>\n",
       "    <tr>\n",
       "      <th>0</th>\n",
       "      <td>0</td>\n",
       "      <td>0_1483</td>\n",
       "      <td>4.99</td>\n",
       "      <td>0.0</td>\n",
       "      <td>c_4450</td>\n",
       "    </tr>\n",
       "    <tr>\n",
       "      <th>1</th>\n",
       "      <td>1</td>\n",
       "      <td>0_1483</td>\n",
       "      <td>4.99</td>\n",
       "      <td>0.0</td>\n",
       "      <td>c_5433</td>\n",
       "    </tr>\n",
       "    <tr>\n",
       "      <th>2</th>\n",
       "      <td>2</td>\n",
       "      <td>0_1483</td>\n",
       "      <td>4.99</td>\n",
       "      <td>0.0</td>\n",
       "      <td>c_857</td>\n",
       "    </tr>\n",
       "    <tr>\n",
       "      <th>3</th>\n",
       "      <td>3</td>\n",
       "      <td>0_1483</td>\n",
       "      <td>4.99</td>\n",
       "      <td>0.0</td>\n",
       "      <td>c_3679</td>\n",
       "    </tr>\n",
       "    <tr>\n",
       "      <th>4</th>\n",
       "      <td>4</td>\n",
       "      <td>0_1483</td>\n",
       "      <td>4.99</td>\n",
       "      <td>0.0</td>\n",
       "      <td>c_1609</td>\n",
       "    </tr>\n",
       "  </tbody>\n",
       "</table>\n",
       "</div>"
      ],
      "text/plain": [
       "   Unnamed: 0 id_prod  price  categ client_id\n",
       "0           0  0_1483   4.99    0.0    c_4450\n",
       "1           1  0_1483   4.99    0.0    c_5433\n",
       "2           2  0_1483   4.99    0.0     c_857\n",
       "3           3  0_1483   4.99    0.0    c_3679\n",
       "4           4  0_1483   4.99    0.0    c_1609"
      ]
     },
     "execution_count": 73,
     "metadata": {},
     "output_type": "execute_result"
    }
   ],
   "source": [
    "#A travers  une  restriction   modifions  notre  DF cient  \n",
    "dfclient = datap4V[['Unnamed: 0', 'id_prod', 'price', 'categ','client_id']]\n",
    "dfclient.head()"
   ]
  },
  {
   "cell_type": "code",
   "execution_count": 41,
   "metadata": {},
   "outputs": [
    {
     "data": {
      "text/html": [
       "<div>\n",
       "<style scoped>\n",
       "    .dataframe tbody tr th:only-of-type {\n",
       "        vertical-align: middle;\n",
       "    }\n",
       "\n",
       "    .dataframe tbody tr th {\n",
       "        vertical-align: top;\n",
       "    }\n",
       "\n",
       "    .dataframe thead th {\n",
       "        text-align: right;\n",
       "    }\n",
       "</style>\n",
       "<table border=\"1\" class=\"dataframe\">\n",
       "  <thead>\n",
       "    <tr style=\"text-align: right;\">\n",
       "      <th></th>\n",
       "      <th>Unnamed: 0</th>\n",
       "      <th>price</th>\n",
       "      <th>categ</th>\n",
       "    </tr>\n",
       "    <tr>\n",
       "      <th>client_id</th>\n",
       "      <th></th>\n",
       "      <th></th>\n",
       "      <th></th>\n",
       "    </tr>\n",
       "  </thead>\n",
       "  <tbody>\n",
       "    <tr>\n",
       "      <th>c_1</th>\n",
       "      <td>3658354</td>\n",
       "      <td>300.65</td>\n",
       "      <td>6.0</td>\n",
       "    </tr>\n",
       "    <tr>\n",
       "      <th>c_10</th>\n",
       "      <td>4673900</td>\n",
       "      <td>586.18</td>\n",
       "      <td>19.0</td>\n",
       "    </tr>\n",
       "    <tr>\n",
       "      <th>c_100</th>\n",
       "      <td>1092567</td>\n",
       "      <td>222.87</td>\n",
       "      <td>5.0</td>\n",
       "    </tr>\n",
       "    <tr>\n",
       "      <th>c_1000</th>\n",
       "      <td>7798099</td>\n",
       "      <td>980.02</td>\n",
       "      <td>36.0</td>\n",
       "    </tr>\n",
       "    <tr>\n",
       "      <th>c_1001</th>\n",
       "      <td>10308132</td>\n",
       "      <td>1102.45</td>\n",
       "      <td>16.0</td>\n",
       "    </tr>\n",
       "  </tbody>\n",
       "</table>\n",
       "</div>"
      ],
      "text/plain": [
       "           Unnamed: 0    price  categ\n",
       "client_id                            \n",
       "c_1           3658354   300.65    6.0\n",
       "c_10          4673900   586.18   19.0\n",
       "c_100         1092567   222.87    5.0\n",
       "c_1000        7798099   980.02   36.0\n",
       "c_1001       10308132  1102.45   16.0"
      ]
     },
     "execution_count": 41,
     "metadata": {},
     "output_type": "execute_result"
    }
   ],
   "source": [
    "#Avec cette  nouvelle df  client  je vais  grouper sur client id  \n",
    "dfclient_gr  = dfclient.groupby(by = 'client_id').sum()\n",
    "dfclient_gr.head()"
   ]
  },
  {
   "cell_type": "code",
   "execution_count": 42,
   "metadata": {},
   "outputs": [
    {
     "name": "stdout",
     "output_type": "stream",
     "text": [
      "<class 'pandas.core.frame.DataFrame'>\n",
      "RangeIndex: 8623 entries, 0 to 8622\n",
      "Data columns (total 3 columns):\n",
      " #   Column     Non-Null Count  Dtype \n",
      "---  ------     --------------  ----- \n",
      " 0   client_id  8623 non-null   object\n",
      " 1   sex        8623 non-null   object\n",
      " 2   birth      8623 non-null   int64 \n",
      "dtypes: int64(1), object(2)\n",
      "memory usage: 202.2+ KB\n"
     ]
    },
    {
     "data": {
      "text/html": [
       "<div>\n",
       "<style scoped>\n",
       "    .dataframe tbody tr th:only-of-type {\n",
       "        vertical-align: middle;\n",
       "    }\n",
       "\n",
       "    .dataframe tbody tr th {\n",
       "        vertical-align: top;\n",
       "    }\n",
       "\n",
       "    .dataframe thead th {\n",
       "        text-align: right;\n",
       "    }\n",
       "</style>\n",
       "<table border=\"1\" class=\"dataframe\">\n",
       "  <thead>\n",
       "    <tr style=\"text-align: right;\">\n",
       "      <th></th>\n",
       "      <th>client_id</th>\n",
       "      <th>sex</th>\n",
       "      <th>birth</th>\n",
       "    </tr>\n",
       "  </thead>\n",
       "  <tbody>\n",
       "    <tr>\n",
       "      <th>0</th>\n",
       "      <td>c_4410</td>\n",
       "      <td>f</td>\n",
       "      <td>1967</td>\n",
       "    </tr>\n",
       "    <tr>\n",
       "      <th>1</th>\n",
       "      <td>c_7839</td>\n",
       "      <td>f</td>\n",
       "      <td>1975</td>\n",
       "    </tr>\n",
       "    <tr>\n",
       "      <th>2</th>\n",
       "      <td>c_1699</td>\n",
       "      <td>f</td>\n",
       "      <td>1984</td>\n",
       "    </tr>\n",
       "    <tr>\n",
       "      <th>3</th>\n",
       "      <td>c_5961</td>\n",
       "      <td>f</td>\n",
       "      <td>1962</td>\n",
       "    </tr>\n",
       "    <tr>\n",
       "      <th>4</th>\n",
       "      <td>c_5320</td>\n",
       "      <td>m</td>\n",
       "      <td>1943</td>\n",
       "    </tr>\n",
       "  </tbody>\n",
       "</table>\n",
       "</div>"
      ],
      "text/plain": [
       "  client_id sex  birth\n",
       "0    c_4410   f   1967\n",
       "1    c_7839   f   1975\n",
       "2    c_1699   f   1984\n",
       "3    c_5961   f   1962\n",
       "4    c_5320   m   1943"
      ]
     },
     "execution_count": 42,
     "metadata": {},
     "output_type": "execute_result"
    }
   ],
   "source": [
    "#ce  nouveau  Df  contient  le  montant  par client  mais sans  les ages  \n",
    "#Nous allons  pour repondre a  la question  faire  une  jointure  \n",
    "#la jointure  se fera sur  une clé commune de  client_id en  faisant  une  inner joint\n",
    "#Mais avant  affichons  l'autre  table de client  obtenu  dans  la  mission 1  \n",
    "df_client = pd.read_csv('customers.csv')\n",
    "df_client.info()\n",
    "df_client.head()"
   ]
  },
  {
   "cell_type": "code",
   "execution_count": 43,
   "metadata": {},
   "outputs": [
    {
     "data": {
      "text/html": [
       "<div>\n",
       "<style scoped>\n",
       "    .dataframe tbody tr th:only-of-type {\n",
       "        vertical-align: middle;\n",
       "    }\n",
       "\n",
       "    .dataframe tbody tr th {\n",
       "        vertical-align: top;\n",
       "    }\n",
       "\n",
       "    .dataframe thead th {\n",
       "        text-align: right;\n",
       "    }\n",
       "</style>\n",
       "<table border=\"1\" class=\"dataframe\">\n",
       "  <thead>\n",
       "    <tr style=\"text-align: right;\">\n",
       "      <th></th>\n",
       "      <th>client_id</th>\n",
       "      <th>Unnamed: 0</th>\n",
       "      <th>price</th>\n",
       "      <th>categ</th>\n",
       "      <th>sex</th>\n",
       "      <th>birth</th>\n",
       "    </tr>\n",
       "  </thead>\n",
       "  <tbody>\n",
       "    <tr>\n",
       "      <th>0</th>\n",
       "      <td>c_1</td>\n",
       "      <td>3658354</td>\n",
       "      <td>300.65</td>\n",
       "      <td>6.0</td>\n",
       "      <td>m</td>\n",
       "      <td>1955</td>\n",
       "    </tr>\n",
       "    <tr>\n",
       "      <th>1</th>\n",
       "      <td>c_10</td>\n",
       "      <td>4673900</td>\n",
       "      <td>586.18</td>\n",
       "      <td>19.0</td>\n",
       "      <td>m</td>\n",
       "      <td>1956</td>\n",
       "    </tr>\n",
       "    <tr>\n",
       "      <th>2</th>\n",
       "      <td>c_100</td>\n",
       "      <td>1092567</td>\n",
       "      <td>222.87</td>\n",
       "      <td>5.0</td>\n",
       "      <td>m</td>\n",
       "      <td>1992</td>\n",
       "    </tr>\n",
       "    <tr>\n",
       "      <th>3</th>\n",
       "      <td>c_1000</td>\n",
       "      <td>7798099</td>\n",
       "      <td>980.02</td>\n",
       "      <td>36.0</td>\n",
       "      <td>f</td>\n",
       "      <td>1966</td>\n",
       "    </tr>\n",
       "    <tr>\n",
       "      <th>4</th>\n",
       "      <td>c_1001</td>\n",
       "      <td>10308132</td>\n",
       "      <td>1102.45</td>\n",
       "      <td>16.0</td>\n",
       "      <td>m</td>\n",
       "      <td>1982</td>\n",
       "    </tr>\n",
       "  </tbody>\n",
       "</table>\n",
       "</div>"
      ],
      "text/plain": [
       "  client_id  Unnamed: 0    price  categ sex  birth\n",
       "0       c_1     3658354   300.65    6.0   m   1955\n",
       "1      c_10     4673900   586.18   19.0   m   1956\n",
       "2     c_100     1092567   222.87    5.0   m   1992\n",
       "3    c_1000     7798099   980.02   36.0   f   1966\n",
       "4    c_1001    10308132  1102.45   16.0   m   1982"
      ]
     },
     "execution_count": 43,
     "metadata": {},
     "output_type": "execute_result"
    }
   ],
   "source": [
    "#Nous allons  joindre ces deux tables à partir de  la clé commune client_id  \n",
    "dfclient_jn = pd.merge(dfclient_gr,df_client ,on = 'client_id' ,how = 'inner')\n",
    "dfclient_jn.head()"
   ]
  },
  {
   "cell_type": "code",
   "execution_count": 80,
   "metadata": {},
   "outputs": [
    {
     "data": {
      "image/png": "[encoded data removed]",
      "text/plain": [
       "<Figure size 432x288 with 1 Axes>"
      ]
     },
     "metadata": {
      "needs_background": "light"
     },
     "output_type": "display_data"
    }
   ],
   "source": [
    "#Avec  cette  nouvelle  table  , nous allons  trouver  des mesures de disprsion \n",
    "#Essayons d'abord de representer  par  un diagramme de dispersion les deux varibles quantitatives  \n",
    "\n",
    "plt.plot(dfclient_jn['price'],dfclient_jn['birth'],'o',alpha=2.0)\n",
    "plt.title('Analyse  montant achat et age')\n",
    "plt.xlabel('price')\n",
    "plt.ylabel('birth')\n",
    "plt.xlim([0,4000])\n",
    "plt.show()"
   ]
  },
  {
   "cell_type": "code",
   "execution_count": 45,
   "metadata": {},
   "outputs": [
    {
     "name": "stdout",
     "output_type": "stream",
     "text": [
      "0.0393109914577625\n"
     ]
    }
   ],
   "source": [
    "#Nous allons calculer  le coefficient  de  correlation  lineaire  \n",
    "#Ce calcul  en  plus de  la  representation graphique vont  nous  permettre  de  mieux  interpreter  l'analyse bivariée\n",
    "print(st.pearsonr(dfclient_jn['price'], dfclient_jn['birth'])[0])"
   ]
  },
  {
   "cell_type": "markdown",
   "metadata": {},
   "source": [
    "# Interpretattion \n",
    "Nous cherchons a savoir si  selon  l'age  du  client  , s'il peut exister  une relation  entre l'age et  le  montant de ses acahts  .\n",
    "En d'autres  mots est ce que  l'age  peut  influencer sur  la  propension aux achats  du  client ?  \n",
    "Si nous  nous referons  au coefficient  de  correlation lineaire  r est  proche de  0  donc  pas de correlation  lineaire entre ces deux varibles.\n",
    "En  outre  sur  le graphe  nous  observons une forte concentration de valeurs  au  niveau de la valeur  minimale 0 et  quelques valeurs dispsersés .\n",
    "Par contre  on  observe  que  les jeunes  ont  une  propension a depenser  un  peu plus  que  les  moins  jeunes  \n"
   ]
  },
  {
   "cell_type": "markdown",
   "metadata": {},
   "source": [
    "# Correlation age  -frequence d'achat\n"
   ]
  },
  {
   "cell_type": "code",
   "execution_count": 46,
   "metadata": {},
   "outputs": [
    {
     "data": {
      "text/html": [
       "<div>\n",
       "<style scoped>\n",
       "    .dataframe tbody tr th:only-of-type {\n",
       "        vertical-align: middle;\n",
       "    }\n",
       "\n",
       "    .dataframe tbody tr th {\n",
       "        vertical-align: top;\n",
       "    }\n",
       "\n",
       "    .dataframe thead th {\n",
       "        text-align: right;\n",
       "    }\n",
       "</style>\n",
       "<table border=\"1\" class=\"dataframe\">\n",
       "  <thead>\n",
       "    <tr style=\"text-align: right;\">\n",
       "      <th></th>\n",
       "      <th>Unnamed: 0</th>\n",
       "      <th>price</th>\n",
       "      <th>categ</th>\n",
       "      <th>birth</th>\n",
       "    </tr>\n",
       "    <tr>\n",
       "      <th>session_id</th>\n",
       "      <th></th>\n",
       "      <th></th>\n",
       "      <th></th>\n",
       "      <th></th>\n",
       "    </tr>\n",
       "  </thead>\n",
       "  <tbody>\n",
       "    <tr>\n",
       "      <th>s_1</th>\n",
       "      <td>240516</td>\n",
       "      <td>11.99</td>\n",
       "      <td>0.0</td>\n",
       "      <td>1967</td>\n",
       "    </tr>\n",
       "    <tr>\n",
       "      <th>s_10</th>\n",
       "      <td>245193</td>\n",
       "      <td>26.99</td>\n",
       "      <td>1.0</td>\n",
       "      <td>1970</td>\n",
       "    </tr>\n",
       "    <tr>\n",
       "      <th>s_100</th>\n",
       "      <td>366588</td>\n",
       "      <td>33.72</td>\n",
       "      <td>0.0</td>\n",
       "      <td>3956</td>\n",
       "    </tr>\n",
       "    <tr>\n",
       "      <th>s_1000</th>\n",
       "      <td>259837</td>\n",
       "      <td>39.22</td>\n",
       "      <td>0.0</td>\n",
       "      <td>7956</td>\n",
       "    </tr>\n",
       "    <tr>\n",
       "      <th>s_10000</th>\n",
       "      <td>293542</td>\n",
       "      <td>41.49</td>\n",
       "      <td>1.0</td>\n",
       "      <td>5967</td>\n",
       "    </tr>\n",
       "  </tbody>\n",
       "</table>\n",
       "</div>"
      ],
      "text/plain": [
       "            Unnamed: 0  price  categ  birth\n",
       "session_id                                 \n",
       "s_1             240516  11.99    0.0   1967\n",
       "s_10            245193  26.99    1.0   1970\n",
       "s_100           366588  33.72    0.0   3956\n",
       "s_1000          259837  39.22    0.0   7956\n",
       "s_10000         293542  41.49    1.0   5967"
      ]
     },
     "execution_count": 46,
     "metadata": {},
     "output_type": "execute_result"
    }
   ],
   "source": [
    "#Pour repondre à  cette question nous allons d'abord  recharger  la table qui contients  les elements recquis\n",
    "#Nous allons ajouter a notre DF client  les elements de  la table d'origine qui nous interesse\n",
    "#ces elemnts sont  la variablle date et  celle des sessions id  \n",
    "#Nous allons  nous appuyer sur  la table des clients grouppée \n",
    "#Nous allons  grouppés ensuite la table transaction  par  session \n",
    "#Et enfin fusionner  les deux tables  \n",
    "dfsession = datap4V.groupby(by = 'session_id').sum()\n",
    "dfsession.head()\n"
   ]
  },
  {
   "cell_type": "code",
   "execution_count": 47,
   "metadata": {},
   "outputs": [
    {
     "data": {
      "text/html": [
       "<div>\n",
       "<style scoped>\n",
       "    .dataframe tbody tr th:only-of-type {\n",
       "        vertical-align: middle;\n",
       "    }\n",
       "\n",
       "    .dataframe tbody tr th {\n",
       "        vertical-align: top;\n",
       "    }\n",
       "\n",
       "    .dataframe thead th {\n",
       "        text-align: right;\n",
       "    }\n",
       "</style>\n",
       "<table border=\"1\" class=\"dataframe\">\n",
       "  <thead>\n",
       "    <tr style=\"text-align: right;\">\n",
       "      <th></th>\n",
       "      <th>price</th>\n",
       "      <th>categ</th>\n",
       "      <th>birth</th>\n",
       "    </tr>\n",
       "    <tr>\n",
       "      <th>session_id</th>\n",
       "      <th></th>\n",
       "      <th></th>\n",
       "      <th></th>\n",
       "    </tr>\n",
       "  </thead>\n",
       "  <tbody>\n",
       "    <tr>\n",
       "      <th>s_1</th>\n",
       "      <td>11.99</td>\n",
       "      <td>0.0</td>\n",
       "      <td>1967</td>\n",
       "    </tr>\n",
       "    <tr>\n",
       "      <th>s_10</th>\n",
       "      <td>26.99</td>\n",
       "      <td>1.0</td>\n",
       "      <td>1970</td>\n",
       "    </tr>\n",
       "    <tr>\n",
       "      <th>s_100</th>\n",
       "      <td>33.72</td>\n",
       "      <td>0.0</td>\n",
       "      <td>3956</td>\n",
       "    </tr>\n",
       "    <tr>\n",
       "      <th>s_1000</th>\n",
       "      <td>39.22</td>\n",
       "      <td>0.0</td>\n",
       "      <td>7956</td>\n",
       "    </tr>\n",
       "    <tr>\n",
       "      <th>s_10000</th>\n",
       "      <td>41.49</td>\n",
       "      <td>1.0</td>\n",
       "      <td>5967</td>\n",
       "    </tr>\n",
       "  </tbody>\n",
       "</table>\n",
       "</div>"
      ],
      "text/plain": [
       "            price  categ  birth\n",
       "session_id                     \n",
       "s_1         11.99    0.0   1967\n",
       "s_10        26.99    1.0   1970\n",
       "s_100       33.72    0.0   3956\n",
       "s_1000      39.22    0.0   7956\n",
       "s_10000     41.49    1.0   5967"
      ]
     },
     "execution_count": 47,
     "metadata": {},
     "output_type": "execute_result"
    }
   ],
   "source": [
    "#Nous allons supprimer  la colonne  de  unnamed  qui  ne nousn sert pas  \n",
    "dfsessionV = dfsession.drop(columns ='Unnamed: 0')\n",
    "dfsessionV.head()"
   ]
  },
  {
   "cell_type": "code",
   "execution_count": 48,
   "metadata": {},
   "outputs": [
    {
     "name": "stdout",
     "output_type": "stream",
     "text": [
      "<class 'pandas.core.frame.DataFrame'>\n",
      "Index: 169173 entries, s_1 to s_99998\n",
      "Data columns (total 3 columns):\n",
      " #   Column  Non-Null Count   Dtype  \n",
      "---  ------  --------------   -----  \n",
      " 0   price   169173 non-null  float64\n",
      " 1   categ   169173 non-null  float64\n",
      " 2   birth   169173 non-null  int64  \n",
      "dtypes: float64(2), int64(1)\n",
      "memory usage: 5.2+ MB\n"
     ]
    },
    {
     "data": {
      "text/html": [
       "<div>\n",
       "<style scoped>\n",
       "    .dataframe tbody tr th:only-of-type {\n",
       "        vertical-align: middle;\n",
       "    }\n",
       "\n",
       "    .dataframe tbody tr th {\n",
       "        vertical-align: top;\n",
       "    }\n",
       "\n",
       "    .dataframe thead th {\n",
       "        text-align: right;\n",
       "    }\n",
       "</style>\n",
       "<table border=\"1\" class=\"dataframe\">\n",
       "  <thead>\n",
       "    <tr style=\"text-align: right;\">\n",
       "      <th></th>\n",
       "      <th>price</th>\n",
       "      <th>categ</th>\n",
       "      <th>birth</th>\n",
       "    </tr>\n",
       "  </thead>\n",
       "  <tbody>\n",
       "    <tr>\n",
       "      <th>count</th>\n",
       "      <td>169173.000000</td>\n",
       "      <td>169173.000000</td>\n",
       "      <td>169173.000000</td>\n",
       "    </tr>\n",
       "    <tr>\n",
       "      <th>mean</th>\n",
       "      <td>34.264202</td>\n",
       "      <td>0.856159</td>\n",
       "      <td>3936.555520</td>\n",
       "    </tr>\n",
       "    <tr>\n",
       "      <th>std</th>\n",
       "      <td>31.872538</td>\n",
       "      <td>0.980733</td>\n",
       "      <td>2524.573036</td>\n",
       "    </tr>\n",
       "    <tr>\n",
       "      <th>min</th>\n",
       "      <td>0.620000</td>\n",
       "      <td>0.000000</td>\n",
       "      <td>1929.000000</td>\n",
       "    </tr>\n",
       "    <tr>\n",
       "      <th>25%</th>\n",
       "      <td>15.200000</td>\n",
       "      <td>0.000000</td>\n",
       "      <td>1971.000000</td>\n",
       "    </tr>\n",
       "    <tr>\n",
       "      <th>50%</th>\n",
       "      <td>25.560000</td>\n",
       "      <td>1.000000</td>\n",
       "      <td>3918.000000</td>\n",
       "    </tr>\n",
       "    <tr>\n",
       "      <th>75%</th>\n",
       "      <td>42.980000</td>\n",
       "      <td>1.000000</td>\n",
       "      <td>5898.000000</td>\n",
       "    </tr>\n",
       "    <tr>\n",
       "      <th>max</th>\n",
       "      <td>539.230000</td>\n",
       "      <td>10.000000</td>\n",
       "      <td>27888.000000</td>\n",
       "    </tr>\n",
       "  </tbody>\n",
       "</table>\n",
       "</div>"
      ],
      "text/plain": [
       "               price          categ          birth\n",
       "count  169173.000000  169173.000000  169173.000000\n",
       "mean       34.264202       0.856159    3936.555520\n",
       "std        31.872538       0.980733    2524.573036\n",
       "min         0.620000       0.000000    1929.000000\n",
       "25%        15.200000       0.000000    1971.000000\n",
       "50%        25.560000       1.000000    3918.000000\n",
       "75%        42.980000       1.000000    5898.000000\n",
       "max       539.230000      10.000000   27888.000000"
      ]
     },
     "execution_count": 48,
     "metadata": {},
     "output_type": "execute_result"
    }
   ],
   "source": [
    "#Essayons d'avoir  plus d'infos sur cette  nouvelle DF\n",
    "dfsessionV.info()\n",
    "dfsessionV.describe()"
   ]
  },
  {
   "cell_type": "code",
   "execution_count": 49,
   "metadata": {},
   "outputs": [
    {
     "data": {
      "text/html": [
       "<div>\n",
       "<style scoped>\n",
       "    .dataframe tbody tr th:only-of-type {\n",
       "        vertical-align: middle;\n",
       "    }\n",
       "\n",
       "    .dataframe tbody tr th {\n",
       "        vertical-align: top;\n",
       "    }\n",
       "\n",
       "    .dataframe thead th {\n",
       "        text-align: right;\n",
       "    }\n",
       "</style>\n",
       "<table border=\"1\" class=\"dataframe\">\n",
       "  <thead>\n",
       "    <tr style=\"text-align: right;\">\n",
       "      <th></th>\n",
       "      <th>session_id</th>\n",
       "      <th>price_x</th>\n",
       "      <th>categ_x</th>\n",
       "      <th>birth_x</th>\n",
       "      <th>Unnamed: 0</th>\n",
       "      <th>id_prod</th>\n",
       "      <th>price_y</th>\n",
       "      <th>categ_y</th>\n",
       "      <th>date</th>\n",
       "      <th>client_id</th>\n",
       "      <th>sex</th>\n",
       "      <th>birth_y</th>\n",
       "    </tr>\n",
       "  </thead>\n",
       "  <tbody>\n",
       "    <tr>\n",
       "      <th>0</th>\n",
       "      <td>s_1</td>\n",
       "      <td>11.99</td>\n",
       "      <td>0.0</td>\n",
       "      <td>1967</td>\n",
       "      <td>240516</td>\n",
       "      <td>0_1259</td>\n",
       "      <td>11.99</td>\n",
       "      <td>0.0</td>\n",
       "      <td>2021-03-01 00:01:07.843138</td>\n",
       "      <td>c_329</td>\n",
       "      <td>f</td>\n",
       "      <td>1967</td>\n",
       "    </tr>\n",
       "    <tr>\n",
       "      <th>1</th>\n",
       "      <td>s_10</td>\n",
       "      <td>26.99</td>\n",
       "      <td>1.0</td>\n",
       "      <td>1970</td>\n",
       "      <td>245193</td>\n",
       "      <td>1_635</td>\n",
       "      <td>26.99</td>\n",
       "      <td>1.0</td>\n",
       "      <td>2021-03-01 00:10:33.163037</td>\n",
       "      <td>c_2218</td>\n",
       "      <td>f</td>\n",
       "      <td>1970</td>\n",
       "    </tr>\n",
       "    <tr>\n",
       "      <th>2</th>\n",
       "      <td>s_100</td>\n",
       "      <td>33.72</td>\n",
       "      <td>0.0</td>\n",
       "      <td>3956</td>\n",
       "      <td>175746</td>\n",
       "      <td>0_1451</td>\n",
       "      <td>19.99</td>\n",
       "      <td>0.0</td>\n",
       "      <td>2021-03-01 04:43:58.025677</td>\n",
       "      <td>c_3854</td>\n",
       "      <td>f</td>\n",
       "      <td>1978</td>\n",
       "    </tr>\n",
       "    <tr>\n",
       "      <th>3</th>\n",
       "      <td>s_100</td>\n",
       "      <td>33.72</td>\n",
       "      <td>0.0</td>\n",
       "      <td>3956</td>\n",
       "      <td>190842</td>\n",
       "      <td>0_1030</td>\n",
       "      <td>13.73</td>\n",
       "      <td>0.0</td>\n",
       "      <td>2021-03-01 04:12:43.572994</td>\n",
       "      <td>c_3854</td>\n",
       "      <td>f</td>\n",
       "      <td>1978</td>\n",
       "    </tr>\n",
       "    <tr>\n",
       "      <th>4</th>\n",
       "      <td>s_1000</td>\n",
       "      <td>39.22</td>\n",
       "      <td>0.0</td>\n",
       "      <td>7956</td>\n",
       "      <td>27324</td>\n",
       "      <td>0_1590</td>\n",
       "      <td>18.93</td>\n",
       "      <td>0.0</td>\n",
       "      <td>2021-03-03 02:49:03.169115</td>\n",
       "      <td>c_1014</td>\n",
       "      <td>m</td>\n",
       "      <td>1989</td>\n",
       "    </tr>\n",
       "  </tbody>\n",
       "</table>\n",
       "</div>"
      ],
      "text/plain": [
       "  session_id  price_x  categ_x  birth_x  Unnamed: 0 id_prod  price_y  categ_y  \\\n",
       "0        s_1    11.99      0.0     1967      240516  0_1259    11.99      0.0   \n",
       "1       s_10    26.99      1.0     1970      245193   1_635    26.99      1.0   \n",
       "2      s_100    33.72      0.0     3956      175746  0_1451    19.99      0.0   \n",
       "3      s_100    33.72      0.0     3956      190842  0_1030    13.73      0.0   \n",
       "4     s_1000    39.22      0.0     7956       27324  0_1590    18.93      0.0   \n",
       "\n",
       "                        date client_id sex  birth_y  \n",
       "0 2021-03-01 00:01:07.843138     c_329   f     1967  \n",
       "1 2021-03-01 00:10:33.163037    c_2218   f     1970  \n",
       "2 2021-03-01 04:43:58.025677    c_3854   f     1978  \n",
       "3 2021-03-01 04:12:43.572994    c_3854   f     1978  \n",
       "4 2021-03-03 02:49:03.169115    c_1014   m     1989  "
      ]
     },
     "execution_count": 49,
     "metadata": {},
     "output_type": "execute_result"
    }
   ],
   "source": [
    "#Maintenant  que  nous avons  grouppé  autour de session  nous allons  y ajouter   les dates \n",
    "#Nous allons atravers  une  jointure interne lier  les deux tables  \n",
    "dfsession_jn = pd.merge(dfsessionV,datap4V ,on='session_id' ,how = 'inner')\n",
    "dfsession_jn.head()\n"
   ]
  },
  {
   "cell_type": "code",
   "execution_count": 51,
   "metadata": {},
   "outputs": [
    {
     "data": {
      "text/html": [
       "<div>\n",
       "<style scoped>\n",
       "    .dataframe tbody tr th:only-of-type {\n",
       "        vertical-align: middle;\n",
       "    }\n",
       "\n",
       "    .dataframe tbody tr th {\n",
       "        vertical-align: top;\n",
       "    }\n",
       "\n",
       "    .dataframe thead th {\n",
       "        text-align: right;\n",
       "    }\n",
       "</style>\n",
       "<table border=\"1\" class=\"dataframe\">\n",
       "  <thead>\n",
       "    <tr style=\"text-align: right;\">\n",
       "      <th></th>\n",
       "      <th>session_id</th>\n",
       "      <th>client_id</th>\n",
       "      <th>price</th>\n",
       "      <th>birth</th>\n",
       "      <th>date</th>\n",
       "    </tr>\n",
       "  </thead>\n",
       "  <tbody>\n",
       "    <tr>\n",
       "      <th>0</th>\n",
       "      <td>s_18746</td>\n",
       "      <td>c_4450</td>\n",
       "      <td>4.99</td>\n",
       "      <td>1977</td>\n",
       "      <td>2021-04-10 18:37:28.723910</td>\n",
       "    </tr>\n",
       "    <tr>\n",
       "      <th>1</th>\n",
       "      <td>s_140787</td>\n",
       "      <td>c_5433</td>\n",
       "      <td>4.99</td>\n",
       "      <td>1981</td>\n",
       "      <td>2021-12-27 11:11:12.123067</td>\n",
       "    </tr>\n",
       "    <tr>\n",
       "      <th>2</th>\n",
       "      <td>s_110736</td>\n",
       "      <td>c_857</td>\n",
       "      <td>4.99</td>\n",
       "      <td>1985</td>\n",
       "      <td>2021-10-27 04:56:38.293970</td>\n",
       "    </tr>\n",
       "    <tr>\n",
       "      <th>3</th>\n",
       "      <td>s_57626</td>\n",
       "      <td>c_3679</td>\n",
       "      <td>4.99</td>\n",
       "      <td>1989</td>\n",
       "      <td>2021-07-04 06:43:45.676567</td>\n",
       "    </tr>\n",
       "    <tr>\n",
       "      <th>4</th>\n",
       "      <td>s_92165</td>\n",
       "      <td>c_1609</td>\n",
       "      <td>4.99</td>\n",
       "      <td>1980</td>\n",
       "      <td>2021-09-19 08:45:43.735331</td>\n",
       "    </tr>\n",
       "  </tbody>\n",
       "</table>\n",
       "</div>"
      ],
      "text/plain": [
       "  session_id client_id  price  birth                       date\n",
       "0    s_18746    c_4450   4.99   1977 2021-04-10 18:37:28.723910\n",
       "1   s_140787    c_5433   4.99   1981 2021-12-27 11:11:12.123067\n",
       "2   s_110736     c_857   4.99   1985 2021-10-27 04:56:38.293970\n",
       "3    s_57626    c_3679   4.99   1989 2021-07-04 06:43:45.676567\n",
       "4    s_92165    c_1609   4.99   1980 2021-09-19 08:45:43.735331"
      ]
     },
     "execution_count": 51,
     "metadata": {},
     "output_type": "execute_result"
    }
   ],
   "source": [
    "#Pour traiter  cette question  , nous allons selectionner  les coonnes qui nous  interessent  \n",
    "#A partir d'un nouveau  Df  nous allon faire  les operations idoines  \n",
    "\n",
    "dffreq = datap4V[['session_id','client_id','price','birth','date']]\n",
    "dffreq.head()"
   ]
  },
  {
   "cell_type": "code",
   "execution_count": 52,
   "metadata": {},
   "outputs": [
    {
     "data": {
      "text/plain": [
       "client_id  session_id\n",
       "c_1        s_105105       7.99\n",
       "           s_114737      92.62\n",
       "           s_120172      44.29\n",
       "           s_134971      10.30\n",
       "           s_136532      13.78\n",
       "Name: price, dtype: float64"
      ]
     },
     "execution_count": 52,
     "metadata": {},
     "output_type": "execute_result"
    }
   ],
   "source": [
    "#Nous allons agreger  cette DF sur  la variable session_id\n",
    "dffreqgr = dffreq.groupby([\"client_id\",\"session_id\"])[\"price\"].sum()\n",
    "dffreqgr.head()"
   ]
  },
  {
   "cell_type": "code",
   "execution_count": 53,
   "metadata": {},
   "outputs": [
    {
     "name": "stdout",
     "output_type": "stream",
     "text": [
      "<class 'pandas.core.frame.DataFrame'>\n",
      "RangeIndex: 336713 entries, 0 to 336712\n",
      "Data columns (total 5 columns):\n",
      " #   Column      Non-Null Count   Dtype         \n",
      "---  ------      --------------   -----         \n",
      " 0   session_id  336713 non-null  object        \n",
      " 1   client_id   336713 non-null  object        \n",
      " 2   price       336713 non-null  float64       \n",
      " 3   birth       336713 non-null  int64         \n",
      " 4   date        336713 non-null  datetime64[ns]\n",
      "dtypes: datetime64[ns](1), float64(1), int64(1), object(2)\n",
      "memory usage: 12.8+ MB\n"
     ]
    },
    {
     "data": {
      "text/html": [
       "<div>\n",
       "<style scoped>\n",
       "    .dataframe tbody tr th:only-of-type {\n",
       "        vertical-align: middle;\n",
       "    }\n",
       "\n",
       "    .dataframe tbody tr th {\n",
       "        vertical-align: top;\n",
       "    }\n",
       "\n",
       "    .dataframe thead th {\n",
       "        text-align: right;\n",
       "    }\n",
       "</style>\n",
       "<table border=\"1\" class=\"dataframe\">\n",
       "  <thead>\n",
       "    <tr style=\"text-align: right;\">\n",
       "      <th></th>\n",
       "      <th>price</th>\n",
       "      <th>birth</th>\n",
       "    </tr>\n",
       "  </thead>\n",
       "  <tbody>\n",
       "    <tr>\n",
       "      <th>count</th>\n",
       "      <td>336713.000000</td>\n",
       "      <td>336713.000000</td>\n",
       "    </tr>\n",
       "    <tr>\n",
       "      <th>mean</th>\n",
       "      <td>17.215189</td>\n",
       "      <td>1977.823568</td>\n",
       "    </tr>\n",
       "    <tr>\n",
       "      <th>std</th>\n",
       "      <td>17.855445</td>\n",
       "      <td>13.524433</td>\n",
       "    </tr>\n",
       "    <tr>\n",
       "      <th>min</th>\n",
       "      <td>0.620000</td>\n",
       "      <td>1929.000000</td>\n",
       "    </tr>\n",
       "    <tr>\n",
       "      <th>25%</th>\n",
       "      <td>8.610000</td>\n",
       "      <td>1971.000000</td>\n",
       "    </tr>\n",
       "    <tr>\n",
       "      <th>50%</th>\n",
       "      <td>13.900000</td>\n",
       "      <td>1980.000000</td>\n",
       "    </tr>\n",
       "    <tr>\n",
       "      <th>75%</th>\n",
       "      <td>18.990000</td>\n",
       "      <td>1987.000000</td>\n",
       "    </tr>\n",
       "    <tr>\n",
       "      <th>max</th>\n",
       "      <td>300.000000</td>\n",
       "      <td>2004.000000</td>\n",
       "    </tr>\n",
       "  </tbody>\n",
       "</table>\n",
       "</div>"
      ],
      "text/plain": [
       "               price          birth\n",
       "count  336713.000000  336713.000000\n",
       "mean       17.215189    1977.823568\n",
       "std        17.855445      13.524433\n",
       "min         0.620000    1929.000000\n",
       "25%         8.610000    1971.000000\n",
       "50%        13.900000    1980.000000\n",
       "75%        18.990000    1987.000000\n",
       "max       300.000000    2004.000000"
      ]
     },
     "execution_count": 53,
     "metadata": {},
     "output_type": "execute_result"
    }
   ],
   "source": [
    "#Verifions que la session id ne comporte  pas des doublons  \n",
    "#Mais avant  explorons  la table\n",
    "dffreq.info()\n",
    "dffreq.describe()"
   ]
  },
  {
   "cell_type": "code",
   "execution_count": 81,
   "metadata": {},
   "outputs": [
    {
     "data": {
      "text/html": [
       "<div>\n",
       "<style scoped>\n",
       "    .dataframe tbody tr th:only-of-type {\n",
       "        vertical-align: middle;\n",
       "    }\n",
       "\n",
       "    .dataframe tbody tr th {\n",
       "        vertical-align: top;\n",
       "    }\n",
       "\n",
       "    .dataframe thead th {\n",
       "        text-align: right;\n",
       "    }\n",
       "</style>\n",
       "<table border=\"1\" class=\"dataframe\">\n",
       "  <thead>\n",
       "    <tr style=\"text-align: right;\">\n",
       "      <th></th>\n",
       "      <th>Unnamed: 0</th>\n",
       "      <th>id_prod</th>\n",
       "      <th>price</th>\n",
       "      <th>categ</th>\n",
       "      <th>date</th>\n",
       "      <th>session_id</th>\n",
       "      <th>client_id</th>\n",
       "      <th>sex</th>\n",
       "      <th>birth</th>\n",
       "    </tr>\n",
       "  </thead>\n",
       "  <tbody>\n",
       "    <tr>\n",
       "      <th>52025</th>\n",
       "      <td>52128</td>\n",
       "      <td>0_1410</td>\n",
       "      <td>14.85</td>\n",
       "      <td>0.0</td>\n",
       "      <td>2021-11-04 18:13:43.694570</td>\n",
       "      <td>s_114737</td>\n",
       "      <td>c_1</td>\n",
       "      <td>m</td>\n",
       "      <td>1955</td>\n",
       "    </tr>\n",
       "    <tr>\n",
       "      <th>110119</th>\n",
       "      <td>110222</td>\n",
       "      <td>0_1568</td>\n",
       "      <td>4.00</td>\n",
       "      <td>0.0</td>\n",
       "      <td>2021-11-04 18:02:39.561078</td>\n",
       "      <td>s_114737</td>\n",
       "      <td>c_1</td>\n",
       "      <td>m</td>\n",
       "      <td>1955</td>\n",
       "    </tr>\n",
       "    <tr>\n",
       "      <th>231407</th>\n",
       "      <td>231510</td>\n",
       "      <td>0_1747</td>\n",
       "      <td>3.99</td>\n",
       "      <td>0.0</td>\n",
       "      <td>2021-11-04 18:37:48.745436</td>\n",
       "      <td>s_114737</td>\n",
       "      <td>c_1</td>\n",
       "      <td>m</td>\n",
       "      <td>1955</td>\n",
       "    </tr>\n",
       "    <tr>\n",
       "      <th>295371</th>\n",
       "      <td>295474</td>\n",
       "      <td>0_1880</td>\n",
       "      <td>14.91</td>\n",
       "      <td>0.0</td>\n",
       "      <td>2021-11-04 18:37:01.482109</td>\n",
       "      <td>s_114737</td>\n",
       "      <td>c_1</td>\n",
       "      <td>m</td>\n",
       "      <td>1955</td>\n",
       "    </tr>\n",
       "    <tr>\n",
       "      <th>317762</th>\n",
       "      <td>317865</td>\n",
       "      <td>2_208</td>\n",
       "      <td>54.87</td>\n",
       "      <td>2.0</td>\n",
       "      <td>2021-11-04 17:28:13.934070</td>\n",
       "      <td>s_114737</td>\n",
       "      <td>c_1</td>\n",
       "      <td>m</td>\n",
       "      <td>1955</td>\n",
       "    </tr>\n",
       "  </tbody>\n",
       "</table>\n",
       "</div>"
      ],
      "text/plain": [
       "        Unnamed: 0 id_prod  price  categ                       date  \\\n",
       "52025        52128  0_1410  14.85    0.0 2021-11-04 18:13:43.694570   \n",
       "110119      110222  0_1568   4.00    0.0 2021-11-04 18:02:39.561078   \n",
       "231407      231510  0_1747   3.99    0.0 2021-11-04 18:37:48.745436   \n",
       "295371      295474  0_1880  14.91    0.0 2021-11-04 18:37:01.482109   \n",
       "317762      317865   2_208  54.87    2.0 2021-11-04 17:28:13.934070   \n",
       "\n",
       "       session_id client_id sex  birth  \n",
       "52025    s_114737       c_1   m   1955  \n",
       "110119   s_114737       c_1   m   1955  \n",
       "231407   s_114737       c_1   m   1955  \n",
       "295371   s_114737       c_1   m   1955  \n",
       "317762   s_114737       c_1   m   1955  "
      ]
     },
     "execution_count": 81,
     "metadata": {},
     "output_type": "execute_result"
    }
   ],
   "source": [
    "#Nous allons verifier  si  il  ya pas de doublons  à partir de  la table d'origine  \n",
    "#Pour cela nous faisons  un test  sur  une session d'un client  le c1\n",
    "#Dans  le test  , nous sommons  à la main  la colonne  price  et  trouvons qu'il equivaut  à 92,67 , le  numero  de  la session test\n",
    "\n",
    "sestest = datap4V[(datap4V['session_id'] == 's_114737')]\n",
    "sestest.head()"
   ]
  },
  {
   "cell_type": "code",
   "execution_count": 82,
   "metadata": {},
   "outputs": [
    {
     "data": {
      "text/html": [
       "<div>\n",
       "<style scoped>\n",
       "    .dataframe tbody tr th:only-of-type {\n",
       "        vertical-align: middle;\n",
       "    }\n",
       "\n",
       "    .dataframe tbody tr th {\n",
       "        vertical-align: top;\n",
       "    }\n",
       "\n",
       "    .dataframe thead th {\n",
       "        text-align: right;\n",
       "    }\n",
       "</style>\n",
       "<table border=\"1\" class=\"dataframe\">\n",
       "  <thead>\n",
       "    <tr style=\"text-align: right;\">\n",
       "      <th></th>\n",
       "      <th>session_id</th>\n",
       "      <th>client_id</th>\n",
       "      <th>price</th>\n",
       "      <th>birth</th>\n",
       "      <th>date</th>\n",
       "    </tr>\n",
       "  </thead>\n",
       "  <tbody>\n",
       "    <tr>\n",
       "      <th>0</th>\n",
       "      <td>s_18746</td>\n",
       "      <td>c_4450</td>\n",
       "      <td>4.99</td>\n",
       "      <td>1977</td>\n",
       "      <td>2021-04-10 18:37:28.723910</td>\n",
       "    </tr>\n",
       "    <tr>\n",
       "      <th>1</th>\n",
       "      <td>s_140787</td>\n",
       "      <td>c_5433</td>\n",
       "      <td>4.99</td>\n",
       "      <td>1981</td>\n",
       "      <td>2021-12-27 11:11:12.123067</td>\n",
       "    </tr>\n",
       "    <tr>\n",
       "      <th>2</th>\n",
       "      <td>s_110736</td>\n",
       "      <td>c_857</td>\n",
       "      <td>4.99</td>\n",
       "      <td>1985</td>\n",
       "      <td>2021-10-27 04:56:38.293970</td>\n",
       "    </tr>\n",
       "    <tr>\n",
       "      <th>3</th>\n",
       "      <td>s_57626</td>\n",
       "      <td>c_3679</td>\n",
       "      <td>4.99</td>\n",
       "      <td>1989</td>\n",
       "      <td>2021-07-04 06:43:45.676567</td>\n",
       "    </tr>\n",
       "    <tr>\n",
       "      <th>4</th>\n",
       "      <td>s_92165</td>\n",
       "      <td>c_1609</td>\n",
       "      <td>4.99</td>\n",
       "      <td>1980</td>\n",
       "      <td>2021-09-19 08:45:43.735331</td>\n",
       "    </tr>\n",
       "  </tbody>\n",
       "</table>\n",
       "</div>"
      ],
      "text/plain": [
       "  session_id client_id  price  birth                       date\n",
       "0    s_18746    c_4450   4.99   1977 2021-04-10 18:37:28.723910\n",
       "1   s_140787    c_5433   4.99   1981 2021-12-27 11:11:12.123067\n",
       "2   s_110736     c_857   4.99   1985 2021-10-27 04:56:38.293970\n",
       "3    s_57626    c_3679   4.99   1989 2021-07-04 06:43:45.676567\n",
       "4    s_92165    c_1609   4.99   1980 2021-09-19 08:45:43.735331"
      ]
     },
     "execution_count": 82,
     "metadata": {},
     "output_type": "execute_result"
    }
   ],
   "source": [
    "#Nous allons travailler avec  la table  dffreq  obtenue  plus haut   \n",
    "#Nous allons garder  les colonnes qui nous interessent  en  enlevant  la colonne  prix  \n",
    "dffreq.head()"
   ]
  },
  {
   "cell_type": "code",
   "execution_count": 58,
   "metadata": {},
   "outputs": [
    {
     "data": {
      "text/html": [
       "<div>\n",
       "<style scoped>\n",
       "    .dataframe tbody tr th:only-of-type {\n",
       "        vertical-align: middle;\n",
       "    }\n",
       "\n",
       "    .dataframe tbody tr th {\n",
       "        vertical-align: top;\n",
       "    }\n",
       "\n",
       "    .dataframe thead th {\n",
       "        text-align: right;\n",
       "    }\n",
       "</style>\n",
       "<table border=\"1\" class=\"dataframe\">\n",
       "  <thead>\n",
       "    <tr style=\"text-align: right;\">\n",
       "      <th></th>\n",
       "      <th>session_id</th>\n",
       "      <th>client_id</th>\n",
       "      <th>birth</th>\n",
       "      <th>date</th>\n",
       "    </tr>\n",
       "  </thead>\n",
       "  <tbody>\n",
       "    <tr>\n",
       "      <th>0</th>\n",
       "      <td>s_18746</td>\n",
       "      <td>c_4450</td>\n",
       "      <td>1977</td>\n",
       "      <td>2021-04-10 18:37:28.723910</td>\n",
       "    </tr>\n",
       "    <tr>\n",
       "      <th>1</th>\n",
       "      <td>s_140787</td>\n",
       "      <td>c_5433</td>\n",
       "      <td>1981</td>\n",
       "      <td>2021-12-27 11:11:12.123067</td>\n",
       "    </tr>\n",
       "    <tr>\n",
       "      <th>2</th>\n",
       "      <td>s_110736</td>\n",
       "      <td>c_857</td>\n",
       "      <td>1985</td>\n",
       "      <td>2021-10-27 04:56:38.293970</td>\n",
       "    </tr>\n",
       "    <tr>\n",
       "      <th>3</th>\n",
       "      <td>s_57626</td>\n",
       "      <td>c_3679</td>\n",
       "      <td>1989</td>\n",
       "      <td>2021-07-04 06:43:45.676567</td>\n",
       "    </tr>\n",
       "    <tr>\n",
       "      <th>4</th>\n",
       "      <td>s_92165</td>\n",
       "      <td>c_1609</td>\n",
       "      <td>1980</td>\n",
       "      <td>2021-09-19 08:45:43.735331</td>\n",
       "    </tr>\n",
       "  </tbody>\n",
       "</table>\n",
       "</div>"
      ],
      "text/plain": [
       "  session_id client_id  birth                       date\n",
       "0    s_18746    c_4450   1977 2021-04-10 18:37:28.723910\n",
       "1   s_140787    c_5433   1981 2021-12-27 11:11:12.123067\n",
       "2   s_110736     c_857   1985 2021-10-27 04:56:38.293970\n",
       "3    s_57626    c_3679   1989 2021-07-04 06:43:45.676567\n",
       "4    s_92165    c_1609   1980 2021-09-19 08:45:43.735331"
      ]
     },
     "execution_count": 58,
     "metadata": {},
     "output_type": "execute_result"
    }
   ],
   "source": [
    "#Faisons  une copie  de cette  noubelle table  afin de faire  les  operations dessus  \n",
    "dffreqV= dffreq.copy()\n",
    "#Nous allons  modifier  notre table en gardant que certaines colonnes  qui nous  interessent  \n",
    "dffreqVR = dffreqV.drop(columns ='price')\n",
    "dffreqVR.head()"
   ]
  },
  {
   "cell_type": "code",
   "execution_count": 59,
   "metadata": {},
   "outputs": [
    {
     "data": {
      "text/html": [
       "<div>\n",
       "<style scoped>\n",
       "    .dataframe tbody tr th:only-of-type {\n",
       "        vertical-align: middle;\n",
       "    }\n",
       "\n",
       "    .dataframe tbody tr th {\n",
       "        vertical-align: top;\n",
       "    }\n",
       "\n",
       "    .dataframe thead th {\n",
       "        text-align: right;\n",
       "    }\n",
       "</style>\n",
       "<table border=\"1\" class=\"dataframe\">\n",
       "  <thead>\n",
       "    <tr style=\"text-align: right;\">\n",
       "      <th></th>\n",
       "      <th>session_id</th>\n",
       "      <th>client_id</th>\n",
       "      <th>date</th>\n",
       "    </tr>\n",
       "  </thead>\n",
       "  <tbody>\n",
       "    <tr>\n",
       "      <th>0</th>\n",
       "      <td>s_18746</td>\n",
       "      <td>c_4450</td>\n",
       "      <td>2021-04-10 18:37:28.723910</td>\n",
       "    </tr>\n",
       "    <tr>\n",
       "      <th>1</th>\n",
       "      <td>s_140787</td>\n",
       "      <td>c_5433</td>\n",
       "      <td>2021-12-27 11:11:12.123067</td>\n",
       "    </tr>\n",
       "    <tr>\n",
       "      <th>2</th>\n",
       "      <td>s_110736</td>\n",
       "      <td>c_857</td>\n",
       "      <td>2021-10-27 04:56:38.293970</td>\n",
       "    </tr>\n",
       "    <tr>\n",
       "      <th>3</th>\n",
       "      <td>s_57626</td>\n",
       "      <td>c_3679</td>\n",
       "      <td>2021-07-04 06:43:45.676567</td>\n",
       "    </tr>\n",
       "    <tr>\n",
       "      <th>4</th>\n",
       "      <td>s_92165</td>\n",
       "      <td>c_1609</td>\n",
       "      <td>2021-09-19 08:45:43.735331</td>\n",
       "    </tr>\n",
       "  </tbody>\n",
       "</table>\n",
       "</div>"
      ],
      "text/plain": [
       "  session_id client_id                       date\n",
       "0    s_18746    c_4450 2021-04-10 18:37:28.723910\n",
       "1   s_140787    c_5433 2021-12-27 11:11:12.123067\n",
       "2   s_110736     c_857 2021-10-27 04:56:38.293970\n",
       "3    s_57626    c_3679 2021-07-04 06:43:45.676567\n",
       "4    s_92165    c_1609 2021-09-19 08:45:43.735331"
      ]
     },
     "execution_count": 59,
     "metadata": {},
     "output_type": "execute_result"
    }
   ],
   "source": [
    "#Nous faisons  une restriction des colonnes  pour garder que celles qui  nous  interessent\n",
    "dfm3 = dffreq[['session_id','client_id','date']]\n",
    "dfm3.head()"
   ]
  },
  {
   "cell_type": "code",
   "execution_count": 83,
   "metadata": {},
   "outputs": [
    {
     "data": {
      "text/html": [
       "<div>\n",
       "<style scoped>\n",
       "    .dataframe tbody tr th:only-of-type {\n",
       "        vertical-align: middle;\n",
       "    }\n",
       "\n",
       "    .dataframe tbody tr th {\n",
       "        vertical-align: top;\n",
       "    }\n",
       "\n",
       "    .dataframe thead th {\n",
       "        text-align: right;\n",
       "    }\n",
       "</style>\n",
       "<table border=\"1\" class=\"dataframe\">\n",
       "  <thead>\n",
       "    <tr style=\"text-align: right;\">\n",
       "      <th></th>\n",
       "      <th>session_id</th>\n",
       "      <th>client_id</th>\n",
       "      <th>date</th>\n",
       "      <th>annee</th>\n",
       "      <th>mois</th>\n",
       "      <th>jour</th>\n",
       "    </tr>\n",
       "  </thead>\n",
       "  <tbody>\n",
       "    <tr>\n",
       "      <th>0</th>\n",
       "      <td>s_18746</td>\n",
       "      <td>c_4450</td>\n",
       "      <td>2021-04-10 18:37:28.723910</td>\n",
       "      <td>2021</td>\n",
       "      <td>4</td>\n",
       "      <td>10</td>\n",
       "    </tr>\n",
       "    <tr>\n",
       "      <th>1</th>\n",
       "      <td>s_140787</td>\n",
       "      <td>c_5433</td>\n",
       "      <td>2021-12-27 11:11:12.123067</td>\n",
       "      <td>2021</td>\n",
       "      <td>12</td>\n",
       "      <td>27</td>\n",
       "    </tr>\n",
       "    <tr>\n",
       "      <th>2</th>\n",
       "      <td>s_110736</td>\n",
       "      <td>c_857</td>\n",
       "      <td>2021-10-27 04:56:38.293970</td>\n",
       "      <td>2021</td>\n",
       "      <td>10</td>\n",
       "      <td>27</td>\n",
       "    </tr>\n",
       "    <tr>\n",
       "      <th>3</th>\n",
       "      <td>s_57626</td>\n",
       "      <td>c_3679</td>\n",
       "      <td>2021-07-04 06:43:45.676567</td>\n",
       "      <td>2021</td>\n",
       "      <td>7</td>\n",
       "      <td>4</td>\n",
       "    </tr>\n",
       "    <tr>\n",
       "      <th>4</th>\n",
       "      <td>s_92165</td>\n",
       "      <td>c_1609</td>\n",
       "      <td>2021-09-19 08:45:43.735331</td>\n",
       "      <td>2021</td>\n",
       "      <td>9</td>\n",
       "      <td>19</td>\n",
       "    </tr>\n",
       "  </tbody>\n",
       "</table>\n",
       "</div>"
      ],
      "text/plain": [
       "  session_id client_id                       date  annee  mois  jour\n",
       "0    s_18746    c_4450 2021-04-10 18:37:28.723910   2021     4    10\n",
       "1   s_140787    c_5433 2021-12-27 11:11:12.123067   2021    12    27\n",
       "2   s_110736     c_857 2021-10-27 04:56:38.293970   2021    10    27\n",
       "3    s_57626    c_3679 2021-07-04 06:43:45.676567   2021     7     4\n",
       "4    s_92165    c_1609 2021-09-19 08:45:43.735331   2021     9    19"
      ]
     },
     "execution_count": 83,
     "metadata": {},
     "output_type": "execute_result"
    }
   ],
   "source": [
    "#Pour avoir  la  frequence  , nous allons  transformer  la colonne date  en  jour  ,  moi et  année\n",
    "#Cela  nous  permettra de  pouvoir connaitre  les frequesnces selon des modalites  temporelles  \n",
    "dfm3['annee'] =dfm3['date'].dt.year\n",
    "dfm3['mois'] =dfm3['date'].dt.month\n",
    "dfm3['jour'] =dfm3['date'].dt.day\n",
    "dfm3.head()"
   ]
  },
  {
   "cell_type": "code",
   "execution_count": 84,
   "metadata": {},
   "outputs": [
    {
     "data": {
      "text/html": [
       "<div>\n",
       "<style scoped>\n",
       "    .dataframe tbody tr th:only-of-type {\n",
       "        vertical-align: middle;\n",
       "    }\n",
       "\n",
       "    .dataframe tbody tr th {\n",
       "        vertical-align: top;\n",
       "    }\n",
       "\n",
       "    .dataframe thead tr th {\n",
       "        text-align: left;\n",
       "    }\n",
       "\n",
       "    .dataframe thead tr:last-of-type th {\n",
       "        text-align: right;\n",
       "    }\n",
       "</style>\n",
       "<table border=\"1\" class=\"dataframe\">\n",
       "  <thead>\n",
       "    <tr>\n",
       "      <th></th>\n",
       "      <th colspan=\"2\" halign=\"left\">session_id</th>\n",
       "      <th colspan=\"2\" halign=\"left\">annee</th>\n",
       "      <th colspan=\"2\" halign=\"left\">mois</th>\n",
       "      <th colspan=\"2\" halign=\"left\">jour</th>\n",
       "    </tr>\n",
       "    <tr>\n",
       "      <th></th>\n",
       "      <th>count</th>\n",
       "      <th>sum</th>\n",
       "      <th>count</th>\n",
       "      <th>sum</th>\n",
       "      <th>count</th>\n",
       "      <th>sum</th>\n",
       "      <th>count</th>\n",
       "      <th>sum</th>\n",
       "    </tr>\n",
       "    <tr>\n",
       "      <th>client_id</th>\n",
       "      <th></th>\n",
       "      <th></th>\n",
       "      <th></th>\n",
       "      <th></th>\n",
       "      <th></th>\n",
       "      <th></th>\n",
       "      <th></th>\n",
       "      <th></th>\n",
       "    </tr>\n",
       "  </thead>\n",
       "  <tbody>\n",
       "    <tr>\n",
       "      <th>c_1</th>\n",
       "      <td>20</td>\n",
       "      <td>s_120172s_134971s_114737s_67467s_67769s_114737...</td>\n",
       "      <td>20</td>\n",
       "      <td>40421</td>\n",
       "      <td>20</td>\n",
       "      <td>185</td>\n",
       "      <td>20</td>\n",
       "      <td>272</td>\n",
       "    </tr>\n",
       "    <tr>\n",
       "      <th>c_10</th>\n",
       "      <td>28</td>\n",
       "      <td>s_77648s_120724s_65973s_65973s_17374s_131932s_...</td>\n",
       "      <td>28</td>\n",
       "      <td>56588</td>\n",
       "      <td>28</td>\n",
       "      <td>217</td>\n",
       "      <td>28</td>\n",
       "      <td>414</td>\n",
       "    </tr>\n",
       "    <tr>\n",
       "      <th>c_100</th>\n",
       "      <td>6</td>\n",
       "      <td>s_73929s_53051s_23060s_73929s_73929s_53051</td>\n",
       "      <td>6</td>\n",
       "      <td>12126</td>\n",
       "      <td>6</td>\n",
       "      <td>40</td>\n",
       "      <td>6</td>\n",
       "      <td>98</td>\n",
       "    </tr>\n",
       "    <tr>\n",
       "      <th>c_1000</th>\n",
       "      <td>56</td>\n",
       "      <td>s_6670s_48821s_75292s_157161s_161277s_111262s_...</td>\n",
       "      <td>56</td>\n",
       "      <td>113190</td>\n",
       "      <td>56</td>\n",
       "      <td>342</td>\n",
       "      <td>56</td>\n",
       "      <td>811</td>\n",
       "    </tr>\n",
       "    <tr>\n",
       "      <th>c_1001</th>\n",
       "      <td>58</td>\n",
       "      <td>s_141008s_69931s_122521s_106626s_141008s_24797...</td>\n",
       "      <td>58</td>\n",
       "      <td>117227</td>\n",
       "      <td>58</td>\n",
       "      <td>444</td>\n",
       "      <td>58</td>\n",
       "      <td>921</td>\n",
       "    </tr>\n",
       "  </tbody>\n",
       "</table>\n",
       "</div>"
      ],
      "text/plain": [
       "          session_id                                                    annee  \\\n",
       "               count                                                sum count   \n",
       "client_id                                                                       \n",
       "c_1               20  s_120172s_134971s_114737s_67467s_67769s_114737...    20   \n",
       "c_10              28  s_77648s_120724s_65973s_65973s_17374s_131932s_...    28   \n",
       "c_100              6         s_73929s_53051s_23060s_73929s_73929s_53051     6   \n",
       "c_1000            56  s_6670s_48821s_75292s_157161s_161277s_111262s_...    56   \n",
       "c_1001            58  s_141008s_69931s_122521s_106626s_141008s_24797...    58   \n",
       "\n",
       "                   mois       jour       \n",
       "              sum count  sum count  sum  \n",
       "client_id                                \n",
       "c_1         40421    20  185    20  272  \n",
       "c_10        56588    28  217    28  414  \n",
       "c_100       12126     6   40     6   98  \n",
       "c_1000     113190    56  342    56  811  \n",
       "c_1001     117227    58  444    58  921  "
      ]
     },
     "execution_count": 84,
     "metadata": {},
     "output_type": "execute_result"
    }
   ],
   "source": [
    "#Nous allons travailler avec cette  nouvelle table  pour repondre à la quesion  \n",
    "#Nous allons  faire  une agregation  par client  et  compter   le  nombre de client  \n",
    "dfm3_gr = dfm3.groupby(by = 'client_id').agg(['count','sum'])\n",
    "dfm3_gr.head()"
   ]
  },
  {
   "cell_type": "code",
   "execution_count": 85,
   "metadata": {},
   "outputs": [
    {
     "data": {
      "text/plain": [
       "client_id  session_id\n",
       "c_1        s_105105      1\n",
       "           s_114737      5\n",
       "           s_120172      2\n",
       "           s_134971      1\n",
       "           s_136532      1\n",
       "Name: mois, dtype: int64"
      ]
     },
     "execution_count": 85,
     "metadata": {},
     "output_type": "execute_result"
    }
   ],
   "source": [
    "#Agregeaons  comme  l'operation  precedente  \n",
    "dfm3_gr = dfm3.groupby(['client_id','session_id'])['mois'].count()\n",
    "dfm3_gr.head()"
   ]
  },
  {
   "cell_type": "code",
   "execution_count": 64,
   "metadata": {},
   "outputs": [
    {
     "data": {
      "text/html": [
       "<div>\n",
       "<style scoped>\n",
       "    .dataframe tbody tr th:only-of-type {\n",
       "        vertical-align: middle;\n",
       "    }\n",
       "\n",
       "    .dataframe tbody tr th {\n",
       "        vertical-align: top;\n",
       "    }\n",
       "\n",
       "    .dataframe thead th {\n",
       "        text-align: right;\n",
       "    }\n",
       "</style>\n",
       "<table border=\"1\" class=\"dataframe\">\n",
       "  <thead>\n",
       "    <tr style=\"text-align: right;\">\n",
       "      <th></th>\n",
       "      <th>client_id</th>\n",
       "      <th>birth</th>\n",
       "    </tr>\n",
       "  </thead>\n",
       "  <tbody>\n",
       "    <tr>\n",
       "      <th>0</th>\n",
       "      <td>c_4450</td>\n",
       "      <td>1977</td>\n",
       "    </tr>\n",
       "    <tr>\n",
       "      <th>1</th>\n",
       "      <td>c_5433</td>\n",
       "      <td>1981</td>\n",
       "    </tr>\n",
       "    <tr>\n",
       "      <th>2</th>\n",
       "      <td>c_857</td>\n",
       "      <td>1985</td>\n",
       "    </tr>\n",
       "    <tr>\n",
       "      <th>3</th>\n",
       "      <td>c_3679</td>\n",
       "      <td>1989</td>\n",
       "    </tr>\n",
       "    <tr>\n",
       "      <th>4</th>\n",
       "      <td>c_1609</td>\n",
       "      <td>1980</td>\n",
       "    </tr>\n",
       "  </tbody>\n",
       "</table>\n",
       "</div>"
      ],
      "text/plain": [
       "  client_id  birth\n",
       "0    c_4450   1977\n",
       "1    c_5433   1981\n",
       "2     c_857   1985\n",
       "3    c_3679   1989\n",
       "4    c_1609   1980"
      ]
     },
     "execution_count": 64,
     "metadata": {},
     "output_type": "execute_result"
    }
   ],
   "source": [
    "#Sur cette table  , je vais appliquer  une  moyenne  pour avoir  les naissances  telles qu'elles \n",
    "#Nous ne voulons  pas de nirth  sommer donc on fait  une nouvelle table  \n",
    "#Nous allons creer  une table qui contient  les ages et  ensuite  faire  une fusion  avec  l'agregation  \n",
    "\n",
    "dfnaiss =datap4V[['client_id' , 'birth']]\n",
    "dfnaiss.head()"
   ]
  },
  {
   "cell_type": "code",
   "execution_count": 87,
   "metadata": {},
   "outputs": [
    {
     "data": {
      "text/html": [
       "<div>\n",
       "<style scoped>\n",
       "    .dataframe tbody tr th:only-of-type {\n",
       "        vertical-align: middle;\n",
       "    }\n",
       "\n",
       "    .dataframe tbody tr th {\n",
       "        vertical-align: top;\n",
       "    }\n",
       "\n",
       "    .dataframe thead th {\n",
       "        text-align: right;\n",
       "    }\n",
       "</style>\n",
       "<table border=\"1\" class=\"dataframe\">\n",
       "  <thead>\n",
       "    <tr style=\"text-align: right;\">\n",
       "      <th></th>\n",
       "      <th>client_id</th>\n",
       "      <th>mois</th>\n",
       "      <th>birth</th>\n",
       "    </tr>\n",
       "  </thead>\n",
       "  <tbody>\n",
       "    <tr>\n",
       "      <th>0</th>\n",
       "      <td>c_1</td>\n",
       "      <td>1</td>\n",
       "      <td>1955</td>\n",
       "    </tr>\n",
       "    <tr>\n",
       "      <th>1</th>\n",
       "      <td>c_1</td>\n",
       "      <td>1</td>\n",
       "      <td>1955</td>\n",
       "    </tr>\n",
       "    <tr>\n",
       "      <th>2</th>\n",
       "      <td>c_1</td>\n",
       "      <td>1</td>\n",
       "      <td>1955</td>\n",
       "    </tr>\n",
       "    <tr>\n",
       "      <th>3</th>\n",
       "      <td>c_1</td>\n",
       "      <td>1</td>\n",
       "      <td>1955</td>\n",
       "    </tr>\n",
       "    <tr>\n",
       "      <th>4</th>\n",
       "      <td>c_1</td>\n",
       "      <td>1</td>\n",
       "      <td>1955</td>\n",
       "    </tr>\n",
       "  </tbody>\n",
       "</table>\n",
       "</div>"
      ],
      "text/plain": [
       "  client_id  mois  birth\n",
       "0       c_1     1   1955\n",
       "1       c_1     1   1955\n",
       "2       c_1     1   1955\n",
       "3       c_1     1   1955\n",
       "4       c_1     1   1955"
      ]
     },
     "execution_count": 87,
     "metadata": {},
     "output_type": "execute_result"
    }
   ],
   "source": [
    "#Je fais fusionner ces deux tables  pour avoir  un ligne comprenant les sessions et les naissances afin de repondre à la question  \n",
    "dfm_freq  = pd.merge(dfm3_gr,dfnaiss ,on ='client_id' , how  = 'inner')\n",
    "dfm_freq.head()"
   ]
  },
  {
   "cell_type": "markdown",
   "metadata": {},
   "source": [
    "# Correlation age-panier moyen"
   ]
  },
  {
   "cell_type": "code",
   "execution_count": 66,
   "metadata": {},
   "outputs": [
    {
     "data": {
      "text/html": [
       "<div>\n",
       "<style scoped>\n",
       "    .dataframe tbody tr th:only-of-type {\n",
       "        vertical-align: middle;\n",
       "    }\n",
       "\n",
       "    .dataframe tbody tr th {\n",
       "        vertical-align: top;\n",
       "    }\n",
       "\n",
       "    .dataframe thead tr th {\n",
       "        text-align: left;\n",
       "    }\n",
       "\n",
       "    .dataframe thead tr:last-of-type th {\n",
       "        text-align: right;\n",
       "    }\n",
       "</style>\n",
       "<table border=\"1\" class=\"dataframe\">\n",
       "  <thead>\n",
       "    <tr>\n",
       "      <th></th>\n",
       "      <th colspan=\"3\" halign=\"left\">Unnamed: 0</th>\n",
       "      <th colspan=\"3\" halign=\"left\">price</th>\n",
       "      <th colspan=\"3\" halign=\"left\">categ</th>\n",
       "      <th colspan=\"3\" halign=\"left\">birth</th>\n",
       "    </tr>\n",
       "    <tr>\n",
       "      <th></th>\n",
       "      <th>mean</th>\n",
       "      <th>count</th>\n",
       "      <th>sum</th>\n",
       "      <th>mean</th>\n",
       "      <th>count</th>\n",
       "      <th>sum</th>\n",
       "      <th>mean</th>\n",
       "      <th>count</th>\n",
       "      <th>sum</th>\n",
       "      <th>mean</th>\n",
       "      <th>count</th>\n",
       "      <th>sum</th>\n",
       "    </tr>\n",
       "    <tr>\n",
       "      <th>session_id</th>\n",
       "      <th></th>\n",
       "      <th></th>\n",
       "      <th></th>\n",
       "      <th></th>\n",
       "      <th></th>\n",
       "      <th></th>\n",
       "      <th></th>\n",
       "      <th></th>\n",
       "      <th></th>\n",
       "      <th></th>\n",
       "      <th></th>\n",
       "      <th></th>\n",
       "    </tr>\n",
       "  </thead>\n",
       "  <tbody>\n",
       "    <tr>\n",
       "      <th>s_1</th>\n",
       "      <td>240516.000000</td>\n",
       "      <td>1</td>\n",
       "      <td>240516</td>\n",
       "      <td>11.990</td>\n",
       "      <td>1</td>\n",
       "      <td>11.99</td>\n",
       "      <td>0.000000</td>\n",
       "      <td>1</td>\n",
       "      <td>0.0</td>\n",
       "      <td>1967</td>\n",
       "      <td>1</td>\n",
       "      <td>1967</td>\n",
       "    </tr>\n",
       "    <tr>\n",
       "      <th>s_10</th>\n",
       "      <td>245193.000000</td>\n",
       "      <td>1</td>\n",
       "      <td>245193</td>\n",
       "      <td>26.990</td>\n",
       "      <td>1</td>\n",
       "      <td>26.99</td>\n",
       "      <td>1.000000</td>\n",
       "      <td>1</td>\n",
       "      <td>1.0</td>\n",
       "      <td>1970</td>\n",
       "      <td>1</td>\n",
       "      <td>1970</td>\n",
       "    </tr>\n",
       "    <tr>\n",
       "      <th>s_100</th>\n",
       "      <td>183294.000000</td>\n",
       "      <td>2</td>\n",
       "      <td>366588</td>\n",
       "      <td>16.860</td>\n",
       "      <td>2</td>\n",
       "      <td>33.72</td>\n",
       "      <td>0.000000</td>\n",
       "      <td>2</td>\n",
       "      <td>0.0</td>\n",
       "      <td>1978</td>\n",
       "      <td>2</td>\n",
       "      <td>3956</td>\n",
       "    </tr>\n",
       "    <tr>\n",
       "      <th>s_1000</th>\n",
       "      <td>64959.250000</td>\n",
       "      <td>4</td>\n",
       "      <td>259837</td>\n",
       "      <td>9.805</td>\n",
       "      <td>4</td>\n",
       "      <td>39.22</td>\n",
       "      <td>0.000000</td>\n",
       "      <td>4</td>\n",
       "      <td>0.0</td>\n",
       "      <td>1989</td>\n",
       "      <td>4</td>\n",
       "      <td>7956</td>\n",
       "    </tr>\n",
       "    <tr>\n",
       "      <th>s_10000</th>\n",
       "      <td>97847.333333</td>\n",
       "      <td>3</td>\n",
       "      <td>293542</td>\n",
       "      <td>13.830</td>\n",
       "      <td>3</td>\n",
       "      <td>41.49</td>\n",
       "      <td>0.333333</td>\n",
       "      <td>3</td>\n",
       "      <td>1.0</td>\n",
       "      <td>1989</td>\n",
       "      <td>3</td>\n",
       "      <td>5967</td>\n",
       "    </tr>\n",
       "  </tbody>\n",
       "</table>\n",
       "</div>"
      ],
      "text/plain": [
       "               Unnamed: 0                 price                  categ        \\\n",
       "                     mean count     sum    mean count    sum      mean count   \n",
       "session_id                                                                     \n",
       "s_1         240516.000000     1  240516  11.990     1  11.99  0.000000     1   \n",
       "s_10        245193.000000     1  245193  26.990     1  26.99  1.000000     1   \n",
       "s_100       183294.000000     2  366588  16.860     2  33.72  0.000000     2   \n",
       "s_1000       64959.250000     4  259837   9.805     4  39.22  0.000000     4   \n",
       "s_10000      97847.333333     3  293542  13.830     3  41.49  0.333333     3   \n",
       "\n",
       "                birth              \n",
       "            sum  mean count   sum  \n",
       "session_id                         \n",
       "s_1         0.0  1967     1  1967  \n",
       "s_10        1.0  1970     1  1970  \n",
       "s_100       0.0  1978     2  3956  \n",
       "s_1000      0.0  1989     4  7956  \n",
       "s_10000     1.0  1989     3  5967  "
      ]
     },
     "execution_count": 66,
     "metadata": {},
     "output_type": "execute_result"
    }
   ],
   "source": [
    "#Nous cherchons ici  le  nombre d'article  qu'on a en  moyenne sur chaque session \n",
    "#Nous allons d'abord  creer  une copie  de  notre  table avant de faire  les  operations idoines  \n",
    "#Nous comptons \n",
    "\n",
    "dfpanier = datap4V.groupby(by = 'session_id').agg([\"mean\", \"count\", \"sum\"])\n",
    "\n",
    "dfpanier.head()\n"
   ]
  },
  {
   "cell_type": "code",
   "execution_count": 88,
   "metadata": {},
   "outputs": [
    {
     "data": {
      "image/png": "[encoded data removed]",
      "text/plain": [
       "<Figure size 432x288 with 1 Axes>"
      ]
     },
     "metadata": {
      "needs_background": "light"
     },
     "output_type": "display_data"
    }
   ],
   "source": [
    "plt.plot(dfpanier[\"birth\"][\"mean\"], dfpanier[\"price\"][\"count\"], \".\",)\n",
    "plt.title('Analyse age et panier  moyen')\n",
    "plt.show()"
   ]
  },
  {
   "cell_type": "code",
   "execution_count": 68,
   "metadata": {},
   "outputs": [
    {
     "name": "stdout",
     "output_type": "stream",
     "text": [
      "0.17761095911098457\n"
     ]
    }
   ],
   "source": [
    "#Calculons   les indicateurs  \n",
    "#Calculons  le coefficient  de  pearson  r\n",
    "print(st.pearsonr(dfpanier[\"birth\"][\"mean\"], dfpanier[\"price\"][\"count\"])[0])"
   ]
  },
  {
   "cell_type": "markdown",
   "metadata": {},
   "source": [
    "# Intefpretation\n",
    "Nous nous sommes pose  la question de savoir s'il existait des relations entre les deux  variables  age et  le  prix des articles  ;\n",
    "Nous cherchons a savoir  si  selon  l'age , s'il est possible  d'avoir  une tendance  du panier  moyen  des clients\n",
    "Nous aimerions savoir  si  selon  leurs ages  , si les clients  ont  tendance  à acheter  plus d'articles  ou  pas  \n",
    "Ou reformulons  : \"sachant que  vous avez  tel age est  ce que  vous etes  plus enclins  à  acheter  des  livres  environnant  un tel montant  ?  \"\n",
    "l'indicateur calcule ici de r  est proche de  0  , cela  peut dire que connaitre  la valeur de  la variable naisssance ne peut  pas  nous  aiguiller sur  la valeur de  la variable  prix \n",
    "Ainsi , nous  pouvons dire qu'il n'exuste  pas de correlation  lineaire entre  ces deux varibles."
   ]
  },
  {
   "cell_type": "code",
   "execution_count": 70,
   "metadata": {},
   "outputs": [
    {
     "data": {
      "text/html": [
       "<div>\n",
       "<style scoped>\n",
       "    .dataframe tbody tr th:only-of-type {\n",
       "        vertical-align: middle;\n",
       "    }\n",
       "\n",
       "    .dataframe tbody tr th {\n",
       "        vertical-align: top;\n",
       "    }\n",
       "\n",
       "    .dataframe thead tr th {\n",
       "        text-align: left;\n",
       "    }\n",
       "\n",
       "    .dataframe thead tr:last-of-type th {\n",
       "        text-align: right;\n",
       "    }\n",
       "</style>\n",
       "<table border=\"1\" class=\"dataframe\">\n",
       "  <thead>\n",
       "    <tr>\n",
       "      <th></th>\n",
       "      <th colspan=\"3\" halign=\"left\">price</th>\n",
       "      <th colspan=\"3\" halign=\"left\">categ</th>\n",
       "      <th colspan=\"3\" halign=\"left\">birth</th>\n",
       "    </tr>\n",
       "    <tr>\n",
       "      <th></th>\n",
       "      <th>mean</th>\n",
       "      <th>count</th>\n",
       "      <th>sum</th>\n",
       "      <th>mean</th>\n",
       "      <th>count</th>\n",
       "      <th>sum</th>\n",
       "      <th>mean</th>\n",
       "      <th>count</th>\n",
       "      <th>sum</th>\n",
       "    </tr>\n",
       "    <tr>\n",
       "      <th>session_id</th>\n",
       "      <th></th>\n",
       "      <th></th>\n",
       "      <th></th>\n",
       "      <th></th>\n",
       "      <th></th>\n",
       "      <th></th>\n",
       "      <th></th>\n",
       "      <th></th>\n",
       "      <th></th>\n",
       "    </tr>\n",
       "  </thead>\n",
       "  <tbody>\n",
       "    <tr>\n",
       "      <th>s_1</th>\n",
       "      <td>11.990</td>\n",
       "      <td>1</td>\n",
       "      <td>11.99</td>\n",
       "      <td>0.000000</td>\n",
       "      <td>1</td>\n",
       "      <td>0.0</td>\n",
       "      <td>1967</td>\n",
       "      <td>1</td>\n",
       "      <td>1967</td>\n",
       "    </tr>\n",
       "    <tr>\n",
       "      <th>s_10</th>\n",
       "      <td>26.990</td>\n",
       "      <td>1</td>\n",
       "      <td>26.99</td>\n",
       "      <td>1.000000</td>\n",
       "      <td>1</td>\n",
       "      <td>1.0</td>\n",
       "      <td>1970</td>\n",
       "      <td>1</td>\n",
       "      <td>1970</td>\n",
       "    </tr>\n",
       "    <tr>\n",
       "      <th>s_100</th>\n",
       "      <td>16.860</td>\n",
       "      <td>2</td>\n",
       "      <td>33.72</td>\n",
       "      <td>0.000000</td>\n",
       "      <td>2</td>\n",
       "      <td>0.0</td>\n",
       "      <td>1978</td>\n",
       "      <td>2</td>\n",
       "      <td>3956</td>\n",
       "    </tr>\n",
       "    <tr>\n",
       "      <th>s_1000</th>\n",
       "      <td>9.805</td>\n",
       "      <td>4</td>\n",
       "      <td>39.22</td>\n",
       "      <td>0.000000</td>\n",
       "      <td>4</td>\n",
       "      <td>0.0</td>\n",
       "      <td>1989</td>\n",
       "      <td>4</td>\n",
       "      <td>7956</td>\n",
       "    </tr>\n",
       "    <tr>\n",
       "      <th>s_10000</th>\n",
       "      <td>13.830</td>\n",
       "      <td>3</td>\n",
       "      <td>41.49</td>\n",
       "      <td>0.333333</td>\n",
       "      <td>3</td>\n",
       "      <td>1.0</td>\n",
       "      <td>1989</td>\n",
       "      <td>3</td>\n",
       "      <td>5967</td>\n",
       "    </tr>\n",
       "  </tbody>\n",
       "</table>\n",
       "</div>"
      ],
      "text/plain": [
       "             price                  categ            birth            \n",
       "              mean count    sum      mean count  sum  mean count   sum\n",
       "session_id                                                            \n",
       "s_1         11.990     1  11.99  0.000000     1  0.0  1967     1  1967\n",
       "s_10        26.990     1  26.99  1.000000     1  1.0  1970     1  1970\n",
       "s_100       16.860     2  33.72  0.000000     2  0.0  1978     2  3956\n",
       "s_1000       9.805     4  39.22  0.000000     4  0.0  1989     4  7956\n",
       "s_10000     13.830     3  41.49  0.333333     3  1.0  1989     3  5967"
      ]
     },
     "execution_count": 70,
     "metadata": {},
     "output_type": "execute_result"
    }
   ],
   "source": [
    "#Supprimons  la colonne qui ne nous sert  pas  \n",
    "dfpanierV = dfpanier.drop(columns ='Unnamed: 0')\n",
    "dfpanierV.head()"
   ]
  },
  {
   "cell_type": "markdown",
   "metadata": {},
   "source": [
    "# Correlation  age-categorie porduits achétés"
   ]
  },
  {
   "cell_type": "code",
   "execution_count": 71,
   "metadata": {},
   "outputs": [
    {
     "name": "stdout",
     "output_type": "stream",
     "text": [
      "0.20677940078791457\n"
     ]
    }
   ],
   "source": [
    "#Nous allons  utiliser  notre table  dfpanier  pour calculer  le coefficient de ce  couple\n",
    "#Nous allons  r en fonction  des  moyennes des naissances  et   l'ensemble des catgories de  produit achete\n",
    "print(st.pearsonr(dfpanier[\"birth\"][\"mean\"], dfpanier[\"categ\"][\"sum\"])[0])"
   ]
  },
  {
   "cell_type": "markdown",
   "metadata": {},
   "source": [
    "# Interpretation\n",
    "Ce coefficient  est  proche de  0 et induit donc  une  independance des deux  variables . Il  y' a donc  pas de correlation  lineaire .\n",
    "Si nous  posons comme question  :  sachant l'age  des clients  peut  - on deduire   la categorie de  produit achété .  ?   il est  difficile de repondre  à  cette question sachant  que  les deux  variables quantitatives  ici   ne sont  pas dependantes  ou  du moins   il est  difficile de  connaitre  les valeurs de la valeur  X en fonction  de  la  valeur  Y .\n",
    "Nous  pouvons essayer de visuliser  cette distribution  à  travers  un grapghique de dispersion \n"
   ]
  },
  {
   "cell_type": "code",
   "execution_count": 89,
   "metadata": {},
   "outputs": [
    {
     "data": {
      "image/png": "[encoded data removed]",
      "text/plain": [
       "<Figure size 432x288 with 1 Axes>"
      ]
     },
     "metadata": {
      "needs_background": "light"
     },
     "output_type": "display_data"
    }
   ],
   "source": [
    "plt.plot(dfpanier[\"birth\"][\"mean\"], dfpanier[\"categ\"][\"sum\"] ,'.')\n",
    "plt.title('Coreelation age et categorie  produit achété')\n",
    "plt.show()"
   ]
  },
  {
   "cell_type": "code",
   "execution_count": null,
   "metadata": {},
   "outputs": [],
   "source": []
  }
 ],
 "metadata": {
  "kernelspec": {
   "display_name": "Python 3",
   "language": "python",
   "name": "python3"
  },
  "language_info": {
   "codemirror_mode": {
    "name": "ipython",
    "version": 3
   },
   "file_extension": ".py",
   "mimetype": "text/x-python",
   "name": "python",
   "nbconvert_exporter": "python",
   "pygments_lexer": "ipython3",
   "version": "3.8.5"
  }
 },
 "nbformat": 4,
 "nbformat_minor": 4
}
